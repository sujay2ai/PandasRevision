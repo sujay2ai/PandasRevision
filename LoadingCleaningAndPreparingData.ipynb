{
  "nbformat": 4,
  "nbformat_minor": 0,
  "metadata": {
    "colab": {
      "name": "LoadingCleaningAndPreparingData.ipynb",
      "provenance": [],
      "authorship_tag": "ABX9TyMXCtUXl3MNGw9p86TU/TnA",
      "include_colab_link": true
    },
    "kernelspec": {
      "name": "python3",
      "display_name": "Python 3"
    }
  },
  "cells": [
    {
      "cell_type": "markdown",
      "metadata": {
        "id": "view-in-github",
        "colab_type": "text"
      },
      "source": [
        "<a href=\"https://colab.research.google.com/github/VitikaJain25/PandasRevision/blob/master/LoadingCleaningAndPreparingData.ipynb\" target=\"_parent\"><img src=\"https://colab.research.google.com/assets/colab-badge.svg\" alt=\"Open In Colab\"/></a>"
      ]
    },
    {
      "cell_type": "code",
      "metadata": {
        "id": "ODjoCRYfgpRi",
        "colab_type": "code",
        "colab": {
          "base_uri": "https://localhost:8080/",
          "height": 34
        },
        "outputId": "f11f967e-43a5-4c0c-8cab-82bd0a82cb07"
      },
      "source": [
        "!python --version"
      ],
      "execution_count": 1,
      "outputs": [
        {
          "output_type": "stream",
          "text": [
            "Python 3.6.9\n"
          ],
          "name": "stdout"
        }
      ]
    },
    {
      "cell_type": "code",
      "metadata": {
        "id": "mL9T4xysg7ju",
        "colab_type": "code",
        "colab": {}
      },
      "source": [
        "import matplotlib\n",
        "import pandas as pd\n",
        "\n",
        "import matplotlib.pyplot as plt"
      ],
      "execution_count": 0,
      "outputs": []
    },
    {
      "cell_type": "code",
      "metadata": {
        "id": "285Kwk79h98z",
        "colab_type": "code",
        "colab": {
          "resources": {
            "http://localhost:8080/nbextensions/google.colab/files.js": {
              "data": "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",
              "ok": true,
              "headers": [
                [
                  "content-type",
                  "application/javascript"
                ]
              ],
              "status": 200,
              "status_text": ""
            }
          },
          "base_uri": "https://localhost:8080/",
          "height": 71
        },
        "outputId": "d79dd4c5-48f0-48c1-dd60-97bfbea823fd"
      },
      "source": [
        "from google.colab import files  #To read file from local\n",
        "import io\n",
        "uploaded = files.upload()   # To upload file from local.\n",
        "\n",
        "crude_oil_data = pd.read_csv(io.BytesIO(uploaded['U.S._crude_oil_production.csv']))"
      ],
      "execution_count": 3,
      "outputs": [
        {
          "output_type": "display_data",
          "data": {
            "text/html": [
              "\n",
              "     <input type=\"file\" id=\"files-b1e11063-1cec-4da3-af76-ee310c68b1b6\" name=\"files[]\" multiple disabled />\n",
              "     <output id=\"result-b1e11063-1cec-4da3-af76-ee310c68b1b6\">\n",
              "      Upload widget is only available when the cell has been executed in the\n",
              "      current browser session. Please rerun this cell to enable.\n",
              "      </output>\n",
              "      <script src=\"/nbextensions/google.colab/files.js\"></script> "
            ],
            "text/plain": [
              "<IPython.core.display.HTML object>"
            ]
          },
          "metadata": {
            "tags": []
          }
        },
        {
          "output_type": "stream",
          "text": [
            "Saving U.S._crude_oil_production.csv to U.S._crude_oil_production.csv\n"
          ],
          "name": "stdout"
        }
      ]
    },
    {
      "cell_type": "code",
      "metadata": {
        "id": "SXtFVNzth3FG",
        "colab_type": "code",
        "colab": {
          "base_uri": "https://localhost:8080/",
          "height": 634
        },
        "outputId": "77a380e4-3eae-4f33-bd4d-39ecc1c38073"
      },
      "source": [
        "crude_oil_data.head(10)"
      ],
      "execution_count": 4,
      "outputs": [
        {
          "output_type": "execute_result",
          "data": {
            "text/html": [
              "<div>\n",
              "<style scoped>\n",
              "    .dataframe tbody tr th:only-of-type {\n",
              "        vertical-align: middle;\n",
              "    }\n",
              "\n",
              "    .dataframe tbody tr th {\n",
              "        vertical-align: top;\n",
              "    }\n",
              "\n",
              "    .dataframe thead th {\n",
              "        text-align: right;\n",
              "    }\n",
              "</style>\n",
              "<table border=\"1\" class=\"dataframe\">\n",
              "  <thead>\n",
              "    <tr style=\"text-align: right;\">\n",
              "      <th></th>\n",
              "      <th>Month</th>\n",
              "      <th>U.S. Crude Oil</th>\n",
              "      <th>Alabama</th>\n",
              "      <th>Alaska</th>\n",
              "      <th>Arkansas</th>\n",
              "      <th>Arizona</th>\n",
              "      <th>California</th>\n",
              "      <th>Colorado</th>\n",
              "      <th>Federal Offshore Gulf of Mexico Crude Oil</th>\n",
              "      <th>Federal Offshore Pacific Crude Oil</th>\n",
              "      <th>Florida</th>\n",
              "      <th>Idaho</th>\n",
              "      <th>Illinois</th>\n",
              "      <th>Indiana</th>\n",
              "      <th>Kansas</th>\n",
              "      <th>Kentucky</th>\n",
              "      <th>Louisiana</th>\n",
              "      <th>Michigan</th>\n",
              "      <th>Mississippi</th>\n",
              "      <th>Missouri</th>\n",
              "      <th>Nebraska</th>\n",
              "      <th>Montana</th>\n",
              "      <th>Nevada</th>\n",
              "      <th>New Mexico</th>\n",
              "      <th>New York</th>\n",
              "      <th>North Dakota</th>\n",
              "      <th>Ohio</th>\n",
              "      <th>Oklahoma</th>\n",
              "      <th>Pennsylvania</th>\n",
              "      <th>South Dakota</th>\n",
              "      <th>Wyoming</th>\n",
              "      <th>West Virginia</th>\n",
              "      <th>Virginia</th>\n",
              "      <th>Utah</th>\n",
              "      <th>Texas</th>\n",
              "      <th>Tennessee</th>\n",
              "    </tr>\n",
              "  </thead>\n",
              "  <tbody>\n",
              "    <tr>\n",
              "      <th>0</th>\n",
              "      <td>2008-06-01</td>\n",
              "      <td>5138</td>\n",
              "      <td>21</td>\n",
              "      <td>655</td>\n",
              "      <td>17</td>\n",
              "      <td>0</td>\n",
              "      <td>583</td>\n",
              "      <td>82</td>\n",
              "      <td>1326</td>\n",
              "      <td>67</td>\n",
              "      <td>5</td>\n",
              "      <td>0</td>\n",
              "      <td>26</td>\n",
              "      <td>5</td>\n",
              "      <td>107</td>\n",
              "      <td>5</td>\n",
              "      <td>215</td>\n",
              "      <td>17</td>\n",
              "      <td>65</td>\n",
              "      <td>0</td>\n",
              "      <td>6</td>\n",
              "      <td>86</td>\n",
              "      <td>1</td>\n",
              "      <td>161</td>\n",
              "      <td>1</td>\n",
              "      <td>165</td>\n",
              "      <td>14</td>\n",
              "      <td>186</td>\n",
              "      <td>8</td>\n",
              "      <td>5</td>\n",
              "      <td>144</td>\n",
              "      <td>6</td>\n",
              "      <td>0</td>\n",
              "      <td>60</td>\n",
              "      <td>1097</td>\n",
              "      <td>1</td>\n",
              "    </tr>\n",
              "    <tr>\n",
              "      <th>1</th>\n",
              "      <td>2008-07-01</td>\n",
              "      <td>5177</td>\n",
              "      <td>21</td>\n",
              "      <td>640</td>\n",
              "      <td>17</td>\n",
              "      <td>0</td>\n",
              "      <td>586</td>\n",
              "      <td>81</td>\n",
              "      <td>1372</td>\n",
              "      <td>61</td>\n",
              "      <td>6</td>\n",
              "      <td>0</td>\n",
              "      <td>27</td>\n",
              "      <td>5</td>\n",
              "      <td>103</td>\n",
              "      <td>7</td>\n",
              "      <td>214</td>\n",
              "      <td>17</td>\n",
              "      <td>60</td>\n",
              "      <td>0</td>\n",
              "      <td>6</td>\n",
              "      <td>84</td>\n",
              "      <td>1</td>\n",
              "      <td>163</td>\n",
              "      <td>1</td>\n",
              "      <td>172</td>\n",
              "      <td>14</td>\n",
              "      <td>184</td>\n",
              "      <td>8</td>\n",
              "      <td>5</td>\n",
              "      <td>145</td>\n",
              "      <td>5</td>\n",
              "      <td>0</td>\n",
              "      <td>61</td>\n",
              "      <td>1111</td>\n",
              "      <td>1</td>\n",
              "    </tr>\n",
              "    <tr>\n",
              "      <th>2</th>\n",
              "      <td>2008-08-01</td>\n",
              "      <td>5003</td>\n",
              "      <td>21</td>\n",
              "      <td>544</td>\n",
              "      <td>17</td>\n",
              "      <td>0</td>\n",
              "      <td>588</td>\n",
              "      <td>82</td>\n",
              "      <td>1272</td>\n",
              "      <td>70</td>\n",
              "      <td>5</td>\n",
              "      <td>0</td>\n",
              "      <td>26</td>\n",
              "      <td>5</td>\n",
              "      <td>110</td>\n",
              "      <td>10</td>\n",
              "      <td>203</td>\n",
              "      <td>17</td>\n",
              "      <td>59</td>\n",
              "      <td>0</td>\n",
              "      <td>7</td>\n",
              "      <td>84</td>\n",
              "      <td>1</td>\n",
              "      <td>163</td>\n",
              "      <td>1</td>\n",
              "      <td>178</td>\n",
              "      <td>14</td>\n",
              "      <td>188</td>\n",
              "      <td>8</td>\n",
              "      <td>5</td>\n",
              "      <td>145</td>\n",
              "      <td>6</td>\n",
              "      <td>0</td>\n",
              "      <td>62</td>\n",
              "      <td>1110</td>\n",
              "      <td>1</td>\n",
              "    </tr>\n",
              "    <tr>\n",
              "      <th>3</th>\n",
              "      <td>2008-09-01</td>\n",
              "      <td>3974</td>\n",
              "      <td>21</td>\n",
              "      <td>681</td>\n",
              "      <td>16</td>\n",
              "      <td>0</td>\n",
              "      <td>587</td>\n",
              "      <td>88</td>\n",
              "      <td>242</td>\n",
              "      <td>67</td>\n",
              "      <td>5</td>\n",
              "      <td>0</td>\n",
              "      <td>27</td>\n",
              "      <td>6</td>\n",
              "      <td>116</td>\n",
              "      <td>4</td>\n",
              "      <td>113</td>\n",
              "      <td>17</td>\n",
              "      <td>60</td>\n",
              "      <td>0</td>\n",
              "      <td>7</td>\n",
              "      <td>86</td>\n",
              "      <td>1</td>\n",
              "      <td>157</td>\n",
              "      <td>1</td>\n",
              "      <td>189</td>\n",
              "      <td>14</td>\n",
              "      <td>186</td>\n",
              "      <td>8</td>\n",
              "      <td>5</td>\n",
              "      <td>144</td>\n",
              "      <td>6</td>\n",
              "      <td>0</td>\n",
              "      <td>63</td>\n",
              "      <td>1055</td>\n",
              "      <td>1</td>\n",
              "    </tr>\n",
              "    <tr>\n",
              "      <th>4</th>\n",
              "      <td>2008-10-01</td>\n",
              "      <td>4738</td>\n",
              "      <td>21</td>\n",
              "      <td>716</td>\n",
              "      <td>17</td>\n",
              "      <td>0</td>\n",
              "      <td>586</td>\n",
              "      <td>86</td>\n",
              "      <td>803</td>\n",
              "      <td>66</td>\n",
              "      <td>6</td>\n",
              "      <td>0</td>\n",
              "      <td>26</td>\n",
              "      <td>6</td>\n",
              "      <td>111</td>\n",
              "      <td>8</td>\n",
              "      <td>186</td>\n",
              "      <td>17</td>\n",
              "      <td>64</td>\n",
              "      <td>0</td>\n",
              "      <td>7</td>\n",
              "      <td>86</td>\n",
              "      <td>1</td>\n",
              "      <td>169</td>\n",
              "      <td>1</td>\n",
              "      <td>203</td>\n",
              "      <td>14</td>\n",
              "      <td>185</td>\n",
              "      <td>8</td>\n",
              "      <td>5</td>\n",
              "      <td>145</td>\n",
              "      <td>6</td>\n",
              "      <td>0</td>\n",
              "      <td>64</td>\n",
              "      <td>1125</td>\n",
              "      <td>1</td>\n",
              "    </tr>\n",
              "    <tr>\n",
              "      <th>5</th>\n",
              "      <td>2008-11-01</td>\n",
              "      <td>5078</td>\n",
              "      <td>22</td>\n",
              "      <td>728</td>\n",
              "      <td>17</td>\n",
              "      <td>0</td>\n",
              "      <td>586</td>\n",
              "      <td>87</td>\n",
              "      <td>1090</td>\n",
              "      <td>66</td>\n",
              "      <td>6</td>\n",
              "      <td>0</td>\n",
              "      <td>25</td>\n",
              "      <td>5</td>\n",
              "      <td>111</td>\n",
              "      <td>11</td>\n",
              "      <td>198</td>\n",
              "      <td>17</td>\n",
              "      <td>61</td>\n",
              "      <td>0</td>\n",
              "      <td>7</td>\n",
              "      <td>86</td>\n",
              "      <td>1</td>\n",
              "      <td>171</td>\n",
              "      <td>1</td>\n",
              "      <td>214</td>\n",
              "      <td>14</td>\n",
              "      <td>181</td>\n",
              "      <td>8</td>\n",
              "      <td>5</td>\n",
              "      <td>147</td>\n",
              "      <td>5</td>\n",
              "      <td>0</td>\n",
              "      <td>66</td>\n",
              "      <td>1141</td>\n",
              "      <td>1</td>\n",
              "    </tr>\n",
              "    <tr>\n",
              "      <th>6</th>\n",
              "      <td>2008-12-01</td>\n",
              "      <td>5103</td>\n",
              "      <td>22</td>\n",
              "      <td>702</td>\n",
              "      <td>17</td>\n",
              "      <td>0</td>\n",
              "      <td>579</td>\n",
              "      <td>83</td>\n",
              "      <td>1197</td>\n",
              "      <td>68</td>\n",
              "      <td>4</td>\n",
              "      <td>0</td>\n",
              "      <td>25</td>\n",
              "      <td>5</td>\n",
              "      <td>110</td>\n",
              "      <td>4</td>\n",
              "      <td>194</td>\n",
              "      <td>20</td>\n",
              "      <td>63</td>\n",
              "      <td>0</td>\n",
              "      <td>7</td>\n",
              "      <td>83</td>\n",
              "      <td>1</td>\n",
              "      <td>171</td>\n",
              "      <td>1</td>\n",
              "      <td>201</td>\n",
              "      <td>14</td>\n",
              "      <td>176</td>\n",
              "      <td>8</td>\n",
              "      <td>5</td>\n",
              "      <td>143</td>\n",
              "      <td>5</td>\n",
              "      <td>0</td>\n",
              "      <td>62</td>\n",
              "      <td>1134</td>\n",
              "      <td>1</td>\n",
              "    </tr>\n",
              "    <tr>\n",
              "      <th>7</th>\n",
              "      <td>2009-01-01</td>\n",
              "      <td>5138</td>\n",
              "      <td>21</td>\n",
              "      <td>679</td>\n",
              "      <td>16</td>\n",
              "      <td>0</td>\n",
              "      <td>579</td>\n",
              "      <td>85</td>\n",
              "      <td>1281</td>\n",
              "      <td>67</td>\n",
              "      <td>2</td>\n",
              "      <td>0</td>\n",
              "      <td>23</td>\n",
              "      <td>4</td>\n",
              "      <td>112</td>\n",
              "      <td>10</td>\n",
              "      <td>188</td>\n",
              "      <td>17</td>\n",
              "      <td>62</td>\n",
              "      <td>0</td>\n",
              "      <td>7</td>\n",
              "      <td>81</td>\n",
              "      <td>1</td>\n",
              "      <td>171</td>\n",
              "      <td>1</td>\n",
              "      <td>187</td>\n",
              "      <td>13</td>\n",
              "      <td>173</td>\n",
              "      <td>8</td>\n",
              "      <td>5</td>\n",
              "      <td>144</td>\n",
              "      <td>3</td>\n",
              "      <td>0</td>\n",
              "      <td>65</td>\n",
              "      <td>1133</td>\n",
              "      <td>1</td>\n",
              "    </tr>\n",
              "    <tr>\n",
              "      <th>8</th>\n",
              "      <td>2009-02-01</td>\n",
              "      <td>5236</td>\n",
              "      <td>21</td>\n",
              "      <td>708</td>\n",
              "      <td>16</td>\n",
              "      <td>0</td>\n",
              "      <td>575</td>\n",
              "      <td>87</td>\n",
              "      <td>1323</td>\n",
              "      <td>65</td>\n",
              "      <td>2</td>\n",
              "      <td>0</td>\n",
              "      <td>25</td>\n",
              "      <td>5</td>\n",
              "      <td>112</td>\n",
              "      <td>7</td>\n",
              "      <td>192</td>\n",
              "      <td>18</td>\n",
              "      <td>62</td>\n",
              "      <td>0</td>\n",
              "      <td>7</td>\n",
              "      <td>82</td>\n",
              "      <td>1</td>\n",
              "      <td>175</td>\n",
              "      <td>1</td>\n",
              "      <td>191</td>\n",
              "      <td>13</td>\n",
              "      <td>193</td>\n",
              "      <td>8</td>\n",
              "      <td>5</td>\n",
              "      <td>143</td>\n",
              "      <td>3</td>\n",
              "      <td>0</td>\n",
              "      <td>66</td>\n",
              "      <td>1128</td>\n",
              "      <td>1</td>\n",
              "    </tr>\n",
              "    <tr>\n",
              "      <th>9</th>\n",
              "      <td>2009-03-01</td>\n",
              "      <td>5210</td>\n",
              "      <td>20</td>\n",
              "      <td>709</td>\n",
              "      <td>16</td>\n",
              "      <td>0</td>\n",
              "      <td>577</td>\n",
              "      <td>86</td>\n",
              "      <td>1355</td>\n",
              "      <td>40</td>\n",
              "      <td>2</td>\n",
              "      <td>0</td>\n",
              "      <td>27</td>\n",
              "      <td>5</td>\n",
              "      <td>108</td>\n",
              "      <td>5</td>\n",
              "      <td>190</td>\n",
              "      <td>17</td>\n",
              "      <td>62</td>\n",
              "      <td>0</td>\n",
              "      <td>6</td>\n",
              "      <td>81</td>\n",
              "      <td>1</td>\n",
              "      <td>173</td>\n",
              "      <td>1</td>\n",
              "      <td>194</td>\n",
              "      <td>13</td>\n",
              "      <td>177</td>\n",
              "      <td>8</td>\n",
              "      <td>5</td>\n",
              "      <td>140</td>\n",
              "      <td>6</td>\n",
              "      <td>0</td>\n",
              "      <td>65</td>\n",
              "      <td>1118</td>\n",
              "      <td>1</td>\n",
              "    </tr>\n",
              "  </tbody>\n",
              "</table>\n",
              "</div>"
            ],
            "text/plain": [
              "        Month  U.S. Crude Oil   Alabama  ...  Utah  Texas  Tennessee\n",
              "0  2008-06-01             5138       21  ...    60   1097          1\n",
              "1  2008-07-01             5177       21  ...    61   1111          1\n",
              "2  2008-08-01             5003       21  ...    62   1110          1\n",
              "3  2008-09-01             3974       21  ...    63   1055          1\n",
              "4  2008-10-01             4738       21  ...    64   1125          1\n",
              "5  2008-11-01             5078       22  ...    66   1141          1\n",
              "6  2008-12-01             5103       22  ...    62   1134          1\n",
              "7  2009-01-01             5138       21  ...    65   1133          1\n",
              "8  2009-02-01             5236       21  ...    66   1128          1\n",
              "9  2009-03-01             5210       20  ...    65   1118          1\n",
              "\n",
              "[10 rows x 36 columns]"
            ]
          },
          "metadata": {
            "tags": []
          },
          "execution_count": 4
        }
      ]
    },
    {
      "cell_type": "code",
      "metadata": {
        "id": "lDQNjzmYiZCh",
        "colab_type": "code",
        "colab": {
          "base_uri": "https://localhost:8080/",
          "height": 634
        },
        "outputId": "a3f3c165-09fc-45f6-f4e8-08b8168983cf"
      },
      "source": [
        "crude_oil_data.tail(10)"
      ],
      "execution_count": 5,
      "outputs": [
        {
          "output_type": "execute_result",
          "data": {
            "text/html": [
              "<div>\n",
              "<style scoped>\n",
              "    .dataframe tbody tr th:only-of-type {\n",
              "        vertical-align: middle;\n",
              "    }\n",
              "\n",
              "    .dataframe tbody tr th {\n",
              "        vertical-align: top;\n",
              "    }\n",
              "\n",
              "    .dataframe thead th {\n",
              "        text-align: right;\n",
              "    }\n",
              "</style>\n",
              "<table border=\"1\" class=\"dataframe\">\n",
              "  <thead>\n",
              "    <tr style=\"text-align: right;\">\n",
              "      <th></th>\n",
              "      <th>Month</th>\n",
              "      <th>U.S. Crude Oil</th>\n",
              "      <th>Alabama</th>\n",
              "      <th>Alaska</th>\n",
              "      <th>Arkansas</th>\n",
              "      <th>Arizona</th>\n",
              "      <th>California</th>\n",
              "      <th>Colorado</th>\n",
              "      <th>Federal Offshore Gulf of Mexico Crude Oil</th>\n",
              "      <th>Federal Offshore Pacific Crude Oil</th>\n",
              "      <th>Florida</th>\n",
              "      <th>Idaho</th>\n",
              "      <th>Illinois</th>\n",
              "      <th>Indiana</th>\n",
              "      <th>Kansas</th>\n",
              "      <th>Kentucky</th>\n",
              "      <th>Louisiana</th>\n",
              "      <th>Michigan</th>\n",
              "      <th>Mississippi</th>\n",
              "      <th>Missouri</th>\n",
              "      <th>Nebraska</th>\n",
              "      <th>Montana</th>\n",
              "      <th>Nevada</th>\n",
              "      <th>New Mexico</th>\n",
              "      <th>New York</th>\n",
              "      <th>North Dakota</th>\n",
              "      <th>Ohio</th>\n",
              "      <th>Oklahoma</th>\n",
              "      <th>Pennsylvania</th>\n",
              "      <th>South Dakota</th>\n",
              "      <th>Wyoming</th>\n",
              "      <th>West Virginia</th>\n",
              "      <th>Virginia</th>\n",
              "      <th>Utah</th>\n",
              "      <th>Texas</th>\n",
              "      <th>Tennessee</th>\n",
              "    </tr>\n",
              "  </thead>\n",
              "  <tbody>\n",
              "    <tr>\n",
              "      <th>111</th>\n",
              "      <td>2017-09-01</td>\n",
              "      <td>9495</td>\n",
              "      <td>18</td>\n",
              "      <td>482</td>\n",
              "      <td>14</td>\n",
              "      <td>0</td>\n",
              "      <td>469</td>\n",
              "      <td>399</td>\n",
              "      <td>1693</td>\n",
              "      <td>15</td>\n",
              "      <td>4</td>\n",
              "      <td>0</td>\n",
              "      <td>23</td>\n",
              "      <td>5</td>\n",
              "      <td>95</td>\n",
              "      <td>7</td>\n",
              "      <td>139</td>\n",
              "      <td>15</td>\n",
              "      <td>49</td>\n",
              "      <td>0</td>\n",
              "      <td>6</td>\n",
              "      <td>56</td>\n",
              "      <td>1</td>\n",
              "      <td>497</td>\n",
              "      <td>1</td>\n",
              "      <td>1096</td>\n",
              "      <td>56</td>\n",
              "      <td>469</td>\n",
              "      <td>19</td>\n",
              "      <td>4</td>\n",
              "      <td>215</td>\n",
              "      <td>26</td>\n",
              "      <td>0</td>\n",
              "      <td>97</td>\n",
              "      <td>3525</td>\n",
              "      <td>1</td>\n",
              "    </tr>\n",
              "    <tr>\n",
              "      <th>112</th>\n",
              "      <td>2017-10-01</td>\n",
              "      <td>9703</td>\n",
              "      <td>18</td>\n",
              "      <td>507</td>\n",
              "      <td>14</td>\n",
              "      <td>0</td>\n",
              "      <td>469</td>\n",
              "      <td>409</td>\n",
              "      <td>1477</td>\n",
              "      <td>15</td>\n",
              "      <td>5</td>\n",
              "      <td>0</td>\n",
              "      <td>22</td>\n",
              "      <td>5</td>\n",
              "      <td>97</td>\n",
              "      <td>0</td>\n",
              "      <td>135</td>\n",
              "      <td>15</td>\n",
              "      <td>47</td>\n",
              "      <td>0</td>\n",
              "      <td>6</td>\n",
              "      <td>55</td>\n",
              "      <td>1</td>\n",
              "      <td>519</td>\n",
              "      <td>1</td>\n",
              "      <td>1184</td>\n",
              "      <td>54</td>\n",
              "      <td>497</td>\n",
              "      <td>22</td>\n",
              "      <td>4</td>\n",
              "      <td>221</td>\n",
              "      <td>30</td>\n",
              "      <td>0</td>\n",
              "      <td>97</td>\n",
              "      <td>3776</td>\n",
              "      <td>1</td>\n",
              "    </tr>\n",
              "    <tr>\n",
              "      <th>113</th>\n",
              "      <td>2017-11-01</td>\n",
              "      <td>10103</td>\n",
              "      <td>18</td>\n",
              "      <td>510</td>\n",
              "      <td>14</td>\n",
              "      <td>0</td>\n",
              "      <td>468</td>\n",
              "      <td>421</td>\n",
              "      <td>1689</td>\n",
              "      <td>15</td>\n",
              "      <td>5</td>\n",
              "      <td>0</td>\n",
              "      <td>23</td>\n",
              "      <td>5</td>\n",
              "      <td>99</td>\n",
              "      <td>8</td>\n",
              "      <td>142</td>\n",
              "      <td>15</td>\n",
              "      <td>48</td>\n",
              "      <td>0</td>\n",
              "      <td>6</td>\n",
              "      <td>55</td>\n",
              "      <td>1</td>\n",
              "      <td>522</td>\n",
              "      <td>1</td>\n",
              "      <td>1197</td>\n",
              "      <td>57</td>\n",
              "      <td>501</td>\n",
              "      <td>21</td>\n",
              "      <td>4</td>\n",
              "      <td>226</td>\n",
              "      <td>32</td>\n",
              "      <td>0</td>\n",
              "      <td>97</td>\n",
              "      <td>3903</td>\n",
              "      <td>1</td>\n",
              "    </tr>\n",
              "    <tr>\n",
              "      <th>114</th>\n",
              "      <td>2017-12-01</td>\n",
              "      <td>10040</td>\n",
              "      <td>17</td>\n",
              "      <td>512</td>\n",
              "      <td>14</td>\n",
              "      <td>0</td>\n",
              "      <td>461</td>\n",
              "      <td>436</td>\n",
              "      <td>1576</td>\n",
              "      <td>13</td>\n",
              "      <td>5</td>\n",
              "      <td>0</td>\n",
              "      <td>23</td>\n",
              "      <td>5</td>\n",
              "      <td>92</td>\n",
              "      <td>10</td>\n",
              "      <td>138</td>\n",
              "      <td>15</td>\n",
              "      <td>46</td>\n",
              "      <td>0</td>\n",
              "      <td>6</td>\n",
              "      <td>54</td>\n",
              "      <td>1</td>\n",
              "      <td>537</td>\n",
              "      <td>1</td>\n",
              "      <td>1183</td>\n",
              "      <td>53</td>\n",
              "      <td>504</td>\n",
              "      <td>20</td>\n",
              "      <td>3</td>\n",
              "      <td>225</td>\n",
              "      <td>31</td>\n",
              "      <td>0</td>\n",
              "      <td>94</td>\n",
              "      <td>3963</td>\n",
              "      <td>1</td>\n",
              "    </tr>\n",
              "    <tr>\n",
              "      <th>115</th>\n",
              "      <td>2018-01-01</td>\n",
              "      <td>9995</td>\n",
              "      <td>16</td>\n",
              "      <td>508</td>\n",
              "      <td>14</td>\n",
              "      <td>0</td>\n",
              "      <td>463</td>\n",
              "      <td>436</td>\n",
              "      <td>1631</td>\n",
              "      <td>14</td>\n",
              "      <td>5</td>\n",
              "      <td>0</td>\n",
              "      <td>19</td>\n",
              "      <td>4</td>\n",
              "      <td>93</td>\n",
              "      <td>2</td>\n",
              "      <td>122</td>\n",
              "      <td>15</td>\n",
              "      <td>45</td>\n",
              "      <td>0</td>\n",
              "      <td>5</td>\n",
              "      <td>56</td>\n",
              "      <td>1</td>\n",
              "      <td>541</td>\n",
              "      <td>1</td>\n",
              "      <td>1158</td>\n",
              "      <td>50</td>\n",
              "      <td>530</td>\n",
              "      <td>17</td>\n",
              "      <td>4</td>\n",
              "      <td>222</td>\n",
              "      <td>28</td>\n",
              "      <td>0</td>\n",
              "      <td>100</td>\n",
              "      <td>3894</td>\n",
              "      <td>1</td>\n",
              "    </tr>\n",
              "    <tr>\n",
              "      <th>116</th>\n",
              "      <td>2018-02-01</td>\n",
              "      <td>10248</td>\n",
              "      <td>17</td>\n",
              "      <td>513</td>\n",
              "      <td>14</td>\n",
              "      <td>0</td>\n",
              "      <td>463</td>\n",
              "      <td>428</td>\n",
              "      <td>1704</td>\n",
              "      <td>14</td>\n",
              "      <td>5</td>\n",
              "      <td>0</td>\n",
              "      <td>22</td>\n",
              "      <td>5</td>\n",
              "      <td>96</td>\n",
              "      <td>4</td>\n",
              "      <td>131</td>\n",
              "      <td>15</td>\n",
              "      <td>48</td>\n",
              "      <td>0</td>\n",
              "      <td>5</td>\n",
              "      <td>56</td>\n",
              "      <td>1</td>\n",
              "      <td>586</td>\n",
              "      <td>1</td>\n",
              "      <td>1151</td>\n",
              "      <td>54</td>\n",
              "      <td>527</td>\n",
              "      <td>18</td>\n",
              "      <td>4</td>\n",
              "      <td>223</td>\n",
              "      <td>27</td>\n",
              "      <td>0</td>\n",
              "      <td>100</td>\n",
              "      <td>4015</td>\n",
              "      <td>1</td>\n",
              "    </tr>\n",
              "    <tr>\n",
              "      <th>117</th>\n",
              "      <td>2018-03-01</td>\n",
              "      <td>10461</td>\n",
              "      <td>17</td>\n",
              "      <td>512</td>\n",
              "      <td>14</td>\n",
              "      <td>0</td>\n",
              "      <td>462</td>\n",
              "      <td>428</td>\n",
              "      <td>1681</td>\n",
              "      <td>16</td>\n",
              "      <td>5</td>\n",
              "      <td>0</td>\n",
              "      <td>23</td>\n",
              "      <td>5</td>\n",
              "      <td>97</td>\n",
              "      <td>12</td>\n",
              "      <td>131</td>\n",
              "      <td>14</td>\n",
              "      <td>47</td>\n",
              "      <td>0</td>\n",
              "      <td>6</td>\n",
              "      <td>53</td>\n",
              "      <td>1</td>\n",
              "      <td>623</td>\n",
              "      <td>1</td>\n",
              "      <td>1145</td>\n",
              "      <td>54</td>\n",
              "      <td>543</td>\n",
              "      <td>18</td>\n",
              "      <td>4</td>\n",
              "      <td>231</td>\n",
              "      <td>29</td>\n",
              "      <td>0</td>\n",
              "      <td>104</td>\n",
              "      <td>4185</td>\n",
              "      <td>1</td>\n",
              "    </tr>\n",
              "    <tr>\n",
              "      <th>118</th>\n",
              "      <td>2018-04-01</td>\n",
              "      <td>10475</td>\n",
              "      <td>17</td>\n",
              "      <td>497</td>\n",
              "      <td>14</td>\n",
              "      <td>0</td>\n",
              "      <td>465</td>\n",
              "      <td>447</td>\n",
              "      <td>1583</td>\n",
              "      <td>16</td>\n",
              "      <td>5</td>\n",
              "      <td>0</td>\n",
              "      <td>22</td>\n",
              "      <td>4</td>\n",
              "      <td>97</td>\n",
              "      <td>4</td>\n",
              "      <td>128</td>\n",
              "      <td>13</td>\n",
              "      <td>47</td>\n",
              "      <td>0</td>\n",
              "      <td>5</td>\n",
              "      <td>54</td>\n",
              "      <td>1</td>\n",
              "      <td>650</td>\n",
              "      <td>1</td>\n",
              "      <td>1211</td>\n",
              "      <td>54</td>\n",
              "      <td>531</td>\n",
              "      <td>19</td>\n",
              "      <td>4</td>\n",
              "      <td>232</td>\n",
              "      <td>29</td>\n",
              "      <td>0</td>\n",
              "      <td>103</td>\n",
              "      <td>4222</td>\n",
              "      <td>1</td>\n",
              "    </tr>\n",
              "    <tr>\n",
              "      <th>119</th>\n",
              "      <td>2018-05-01</td>\n",
              "      <td>10443</td>\n",
              "      <td>16</td>\n",
              "      <td>496</td>\n",
              "      <td>14</td>\n",
              "      <td>0</td>\n",
              "      <td>464</td>\n",
              "      <td>447</td>\n",
              "      <td>1504</td>\n",
              "      <td>15</td>\n",
              "      <td>5</td>\n",
              "      <td>0</td>\n",
              "      <td>24</td>\n",
              "      <td>5</td>\n",
              "      <td>97</td>\n",
              "      <td>7</td>\n",
              "      <td>130</td>\n",
              "      <td>14</td>\n",
              "      <td>48</td>\n",
              "      <td>0</td>\n",
              "      <td>5</td>\n",
              "      <td>54</td>\n",
              "      <td>1</td>\n",
              "      <td>652</td>\n",
              "      <td>1</td>\n",
              "      <td>1236</td>\n",
              "      <td>58</td>\n",
              "      <td>529</td>\n",
              "      <td>19</td>\n",
              "      <td>3</td>\n",
              "      <td>228</td>\n",
              "      <td>29</td>\n",
              "      <td>0</td>\n",
              "      <td>97</td>\n",
              "      <td>4245</td>\n",
              "      <td>1</td>\n",
              "    </tr>\n",
              "    <tr>\n",
              "      <th>120</th>\n",
              "      <td>2018-06-01</td>\n",
              "      <td>10674</td>\n",
              "      <td>16</td>\n",
              "      <td>451</td>\n",
              "      <td>14</td>\n",
              "      <td>0</td>\n",
              "      <td>462</td>\n",
              "      <td>423</td>\n",
              "      <td>1658</td>\n",
              "      <td>15</td>\n",
              "      <td>5</td>\n",
              "      <td>0</td>\n",
              "      <td>23</td>\n",
              "      <td>5</td>\n",
              "      <td>96</td>\n",
              "      <td>9</td>\n",
              "      <td>129</td>\n",
              "      <td>15</td>\n",
              "      <td>47</td>\n",
              "      <td>0</td>\n",
              "      <td>5</td>\n",
              "      <td>52</td>\n",
              "      <td>1</td>\n",
              "      <td>657</td>\n",
              "      <td>1</td>\n",
              "      <td>1220</td>\n",
              "      <td>65</td>\n",
              "      <td>526</td>\n",
              "      <td>18</td>\n",
              "      <td>4</td>\n",
              "      <td>226</td>\n",
              "      <td>30</td>\n",
              "      <td>0</td>\n",
              "      <td>94</td>\n",
              "      <td>4410</td>\n",
              "      <td>1</td>\n",
              "    </tr>\n",
              "  </tbody>\n",
              "</table>\n",
              "</div>"
            ],
            "text/plain": [
              "          Month  U.S. Crude Oil   Alabama  ...  Utah  Texas  Tennessee\n",
              "111  2017-09-01             9495       18  ...    97   3525          1\n",
              "112  2017-10-01             9703       18  ...    97   3776          1\n",
              "113  2017-11-01            10103       18  ...    97   3903          1\n",
              "114  2017-12-01            10040       17  ...    94   3963          1\n",
              "115  2018-01-01             9995       16  ...   100   3894          1\n",
              "116  2018-02-01            10248       17  ...   100   4015          1\n",
              "117  2018-03-01            10461       17  ...   104   4185          1\n",
              "118  2018-04-01            10475       17  ...   103   4222          1\n",
              "119  2018-05-01            10443       16  ...    97   4245          1\n",
              "120  2018-06-01            10674       16  ...    94   4410          1\n",
              "\n",
              "[10 rows x 36 columns]"
            ]
          },
          "metadata": {
            "tags": []
          },
          "execution_count": 5
        }
      ]
    },
    {
      "cell_type": "code",
      "metadata": {
        "id": "voLf1DMsipCl",
        "colab_type": "code",
        "colab": {
          "base_uri": "https://localhost:8080/",
          "height": 34
        },
        "outputId": "90c7031e-ca1a-4ca1-e79c-ff5ee52caa74"
      },
      "source": [
        "crude_oil_data.shape"
      ],
      "execution_count": 6,
      "outputs": [
        {
          "output_type": "execute_result",
          "data": {
            "text/plain": [
              "(121, 36)"
            ]
          },
          "metadata": {
            "tags": []
          },
          "execution_count": 6
        }
      ]
    },
    {
      "cell_type": "code",
      "metadata": {
        "id": "5nhPbkccit9o",
        "colab_type": "code",
        "colab": {
          "base_uri": "https://localhost:8080/",
          "height": 153
        },
        "outputId": "9e25f02f-28cd-470a-a9f5-94a78a328431"
      },
      "source": [
        "crude_oil_data.columns\n",
        "# Shows Data for total US oil production and then for individual states like Alabama, Alaska etc"
      ],
      "execution_count": 7,
      "outputs": [
        {
          "output_type": "execute_result",
          "data": {
            "text/plain": [
              "Index(['Month', 'U.S. Crude Oil ', 'Alabama', 'Alaska', 'Arkansas', 'Arizona',\n",
              "       'California', 'Colorado', 'Federal Offshore Gulf of Mexico Crude Oil',\n",
              "       'Federal Offshore Pacific Crude Oil', 'Florida', 'Idaho', 'Illinois',\n",
              "       'Indiana', 'Kansas', 'Kentucky', 'Louisiana', 'Michigan', 'Mississippi',\n",
              "       'Missouri', 'Nebraska', 'Montana', 'Nevada', 'New Mexico', 'New York',\n",
              "       'North Dakota', 'Ohio', 'Oklahoma', 'Pennsylvania', 'South Dakota',\n",
              "       'Wyoming', 'West Virginia', 'Virginia', 'Utah', 'Texas', 'Tennessee'],\n",
              "      dtype='object')"
            ]
          },
          "metadata": {
            "tags": []
          },
          "execution_count": 7
        }
      ]
    },
    {
      "cell_type": "code",
      "metadata": {
        "id": "dDlc0RMEi8jP",
        "colab_type": "code",
        "colab": {
          "base_uri": "https://localhost:8080/",
          "height": 34
        },
        "outputId": "43763bb6-f8b0-4420-918b-f2ae53cd50dc"
      },
      "source": [
        "# To check if any of the states has a production of 0\n",
        "crude_oil_data.columns[(crude_oil_data.sum(axis = 0)) == 0]"
      ],
      "execution_count": 8,
      "outputs": [
        {
          "output_type": "execute_result",
          "data": {
            "text/plain": [
              "Index(['Arizona', 'Virginia'], dtype='object')"
            ]
          },
          "metadata": {
            "tags": []
          },
          "execution_count": 8
        }
      ]
    },
    {
      "cell_type": "code",
      "metadata": {
        "id": "FivceeFZmGP3",
        "colab_type": "code",
        "colab": {
          "base_uri": "https://localhost:8080/",
          "height": 153
        },
        "outputId": "448a1689-3c66-462d-a11c-d165e598388e"
      },
      "source": [
        "# For 2 states the sum of column is 0. So we may remove both the columns\n",
        "crude_oil_data.drop(['Arizona','Virginia'], axis = 1, inplace=True)\n",
        "crude_oil_data.columns"
      ],
      "execution_count": 9,
      "outputs": [
        {
          "output_type": "execute_result",
          "data": {
            "text/plain": [
              "Index(['Month', 'U.S. Crude Oil ', 'Alabama', 'Alaska', 'Arkansas',\n",
              "       'California', 'Colorado', 'Federal Offshore Gulf of Mexico Crude Oil',\n",
              "       'Federal Offshore Pacific Crude Oil', 'Florida', 'Idaho', 'Illinois',\n",
              "       'Indiana', 'Kansas', 'Kentucky', 'Louisiana', 'Michigan', 'Mississippi',\n",
              "       'Missouri', 'Nebraska', 'Montana', 'Nevada', 'New Mexico', 'New York',\n",
              "       'North Dakota', 'Ohio', 'Oklahoma', 'Pennsylvania', 'South Dakota',\n",
              "       'Wyoming', 'West Virginia', 'Utah', 'Texas', 'Tennessee'],\n",
              "      dtype='object')"
            ]
          },
          "metadata": {
            "tags": []
          },
          "execution_count": 9
        }
      ]
    },
    {
      "cell_type": "code",
      "metadata": {
        "id": "xUqJLKKKmrbi",
        "colab_type": "code",
        "colab": {
          "base_uri": "https://localhost:8080/",
          "height": 34
        },
        "outputId": "c70d3a68-7fb6-4b66-949f-7169fa9daafc"
      },
      "source": [
        "crude_oil_data.shape"
      ],
      "execution_count": 10,
      "outputs": [
        {
          "output_type": "execute_result",
          "data": {
            "text/plain": [
              "(121, 34)"
            ]
          },
          "metadata": {
            "tags": []
          },
          "execution_count": 10
        }
      ]
    },
    {
      "cell_type": "code",
      "metadata": {
        "id": "nUEyu9-InkEh",
        "colab_type": "code",
        "colab": {
          "base_uri": "https://localhost:8080/",
          "height": 204
        },
        "outputId": "31ae8250-b4a3-4ebf-b6f3-c7e91947e2f6"
      },
      "source": [
        "# Converting Month column to Date time format and storing in new column 'Date'\n",
        "crude_oil_data['Date'] = pd.to_datetime(crude_oil_data['Month'])\n",
        "crude_oil_data['Date'].head(10)"
      ],
      "execution_count": 11,
      "outputs": [
        {
          "output_type": "execute_result",
          "data": {
            "text/plain": [
              "0   2008-06-01\n",
              "1   2008-07-01\n",
              "2   2008-08-01\n",
              "3   2008-09-01\n",
              "4   2008-10-01\n",
              "5   2008-11-01\n",
              "6   2008-12-01\n",
              "7   2009-01-01\n",
              "8   2009-02-01\n",
              "9   2009-03-01\n",
              "Name: Date, dtype: datetime64[ns]"
            ]
          },
          "metadata": {
            "tags": []
          },
          "execution_count": 11
        }
      ]
    },
    {
      "cell_type": "code",
      "metadata": {
        "id": "TZ3yUMrDCqx2",
        "colab_type": "code",
        "colab": {
          "base_uri": "https://localhost:8080/",
          "height": 153
        },
        "outputId": "02f23bff-13ce-4f4a-de6d-4efddf318f86"
      },
      "source": [
        "# Dropping Month column as the same data is present in Date column now\n",
        "crude_oil_data.drop(['Month'], axis = 1, inplace=True)\n",
        "crude_oil_data.columns"
      ],
      "execution_count": 12,
      "outputs": [
        {
          "output_type": "execute_result",
          "data": {
            "text/plain": [
              "Index(['U.S. Crude Oil ', 'Alabama', 'Alaska', 'Arkansas', 'California',\n",
              "       'Colorado', 'Federal Offshore Gulf of Mexico Crude Oil',\n",
              "       'Federal Offshore Pacific Crude Oil', 'Florida', 'Idaho', 'Illinois',\n",
              "       'Indiana', 'Kansas', 'Kentucky', 'Louisiana', 'Michigan', 'Mississippi',\n",
              "       'Missouri', 'Nebraska', 'Montana', 'Nevada', 'New Mexico', 'New York',\n",
              "       'North Dakota', 'Ohio', 'Oklahoma', 'Pennsylvania', 'South Dakota',\n",
              "       'Wyoming', 'West Virginia', 'Utah', 'Texas', 'Tennessee', 'Date'],\n",
              "      dtype='object')"
            ]
          },
          "metadata": {
            "tags": []
          },
          "execution_count": 12
        }
      ]
    },
    {
      "cell_type": "code",
      "metadata": {
        "id": "SseAEsvJC_8x",
        "colab_type": "code",
        "colab": {
          "base_uri": "https://localhost:8080/",
          "height": 136
        },
        "outputId": "563b6bfb-3e2c-4bf4-88ce-27e528e8f5ef"
      },
      "source": [
        "# Renaming columns with long names\n",
        "# Shorter column names will help with visualization that we plot\n",
        "crude_oil_data = crude_oil_data.rename(columns = {'Federal Offshore Gulf of Mexico Crude Oil' : 'Mexico',\n",
        "                                        'Federal Offshore Pacific Crude Oil' : 'Pacific'})\n",
        "crude_oil_data.columns\n"
      ],
      "execution_count": 13,
      "outputs": [
        {
          "output_type": "execute_result",
          "data": {
            "text/plain": [
              "Index(['U.S. Crude Oil ', 'Alabama', 'Alaska', 'Arkansas', 'California',\n",
              "       'Colorado', 'Mexico', 'Pacific', 'Florida', 'Idaho', 'Illinois',\n",
              "       'Indiana', 'Kansas', 'Kentucky', 'Louisiana', 'Michigan', 'Mississippi',\n",
              "       'Missouri', 'Nebraska', 'Montana', 'Nevada', 'New Mexico', 'New York',\n",
              "       'North Dakota', 'Ohio', 'Oklahoma', 'Pennsylvania', 'South Dakota',\n",
              "       'Wyoming', 'West Virginia', 'Utah', 'Texas', 'Tennessee', 'Date'],\n",
              "      dtype='object')"
            ]
          },
          "metadata": {
            "tags": []
          },
          "execution_count": 13
        }
      ]
    },
    {
      "cell_type": "code",
      "metadata": {
        "id": "6EtTfpiBD_03",
        "colab_type": "code",
        "colab": {
          "base_uri": "https://localhost:8080/",
          "height": 204
        },
        "outputId": "a35bf52e-0fd2-45e8-cb74-a983b6bce819"
      },
      "source": [
        "# Extracting important features from 'Date' data. Extracting 'Year' information\n",
        "crude_oil_data['Year'] = crude_oil_data['Date'].dt.year\n",
        "crude_oil_data['Year'].sample(10)"
      ],
      "execution_count": 14,
      "outputs": [
        {
          "output_type": "execute_result",
          "data": {
            "text/plain": [
              "7      2009\n",
              "117    2018\n",
              "26     2010\n",
              "104    2017\n",
              "90     2015\n",
              "91     2016\n",
              "59     2013\n",
              "87     2015\n",
              "2      2008\n",
              "79     2015\n",
              "Name: Year, dtype: int64"
            ]
          },
          "metadata": {
            "tags": []
          },
          "execution_count": 14
        }
      ]
    },
    {
      "cell_type": "code",
      "metadata": {
        "id": "d_uDv9yJEb6g",
        "colab_type": "code",
        "colab": {
          "base_uri": "https://localhost:8080/",
          "height": 204
        },
        "outputId": "82871eca-2808-4710-dab2-4577dc9f87f3"
      },
      "source": [
        "# Extracting important features from 'Date' data. Extracting 'Month' information\n",
        "crude_oil_data['Month'] = crude_oil_data['Date'].dt.month\n",
        "crude_oil_data['Month'].sample(10)"
      ],
      "execution_count": 15,
      "outputs": [
        {
          "output_type": "execute_result",
          "data": {
            "text/plain": [
              "72      6\n",
              "52     10\n",
              "40     10\n",
              "41     11\n",
              "116     2\n",
              "22      4\n",
              "28     10\n",
              "68      2\n",
              "29     11\n",
              "67      1\n",
              "Name: Month, dtype: int64"
            ]
          },
          "metadata": {
            "tags": []
          },
          "execution_count": 15
        }
      ]
    },
    {
      "cell_type": "code",
      "metadata": {
        "id": "qnlfzRJaE74P",
        "colab_type": "code",
        "colab": {
          "base_uri": "https://localhost:8080/",
          "height": 334
        },
        "outputId": "99ceb509-e137-45ab-9894-c402d080f19b"
      },
      "source": [
        "# Descriptive Statistics for Numeric Data.\n",
        "crude_oil_data.describe()"
      ],
      "execution_count": 16,
      "outputs": [
        {
          "output_type": "execute_result",
          "data": {
            "text/html": [
              "<div>\n",
              "<style scoped>\n",
              "    .dataframe tbody tr th:only-of-type {\n",
              "        vertical-align: middle;\n",
              "    }\n",
              "\n",
              "    .dataframe tbody tr th {\n",
              "        vertical-align: top;\n",
              "    }\n",
              "\n",
              "    .dataframe thead th {\n",
              "        text-align: right;\n",
              "    }\n",
              "</style>\n",
              "<table border=\"1\" class=\"dataframe\">\n",
              "  <thead>\n",
              "    <tr style=\"text-align: right;\">\n",
              "      <th></th>\n",
              "      <th>U.S. Crude Oil</th>\n",
              "      <th>Alabama</th>\n",
              "      <th>Alaska</th>\n",
              "      <th>Arkansas</th>\n",
              "      <th>California</th>\n",
              "      <th>Colorado</th>\n",
              "      <th>Mexico</th>\n",
              "      <th>Pacific</th>\n",
              "      <th>Florida</th>\n",
              "      <th>Idaho</th>\n",
              "      <th>Illinois</th>\n",
              "      <th>Indiana</th>\n",
              "      <th>Kansas</th>\n",
              "      <th>Kentucky</th>\n",
              "      <th>Louisiana</th>\n",
              "      <th>Michigan</th>\n",
              "      <th>Mississippi</th>\n",
              "      <th>Missouri</th>\n",
              "      <th>Nebraska</th>\n",
              "      <th>Montana</th>\n",
              "      <th>Nevada</th>\n",
              "      <th>New Mexico</th>\n",
              "      <th>New York</th>\n",
              "      <th>North Dakota</th>\n",
              "      <th>Ohio</th>\n",
              "      <th>Oklahoma</th>\n",
              "      <th>Pennsylvania</th>\n",
              "      <th>South Dakota</th>\n",
              "      <th>Wyoming</th>\n",
              "      <th>West Virginia</th>\n",
              "      <th>Utah</th>\n",
              "      <th>Texas</th>\n",
              "      <th>Tennessee</th>\n",
              "      <th>Year</th>\n",
              "      <th>Month</th>\n",
              "    </tr>\n",
              "  </thead>\n",
              "  <tbody>\n",
              "    <tr>\n",
              "      <th>count</th>\n",
              "      <td>121.000000</td>\n",
              "      <td>121.000000</td>\n",
              "      <td>121.000000</td>\n",
              "      <td>121.000000</td>\n",
              "      <td>121.000000</td>\n",
              "      <td>121.000000</td>\n",
              "      <td>121.000000</td>\n",
              "      <td>121.000000</td>\n",
              "      <td>121.000000</td>\n",
              "      <td>121.000000</td>\n",
              "      <td>121.000000</td>\n",
              "      <td>121.000000</td>\n",
              "      <td>121.000000</td>\n",
              "      <td>121.000000</td>\n",
              "      <td>121.000000</td>\n",
              "      <td>121.000000</td>\n",
              "      <td>121.000000</td>\n",
              "      <td>121.000000</td>\n",
              "      <td>121.000000</td>\n",
              "      <td>121.00000</td>\n",
              "      <td>121.0</td>\n",
              "      <td>121.000000</td>\n",
              "      <td>121.0</td>\n",
              "      <td>121.000000</td>\n",
              "      <td>121.000000</td>\n",
              "      <td>121.000000</td>\n",
              "      <td>121.000000</td>\n",
              "      <td>121.000000</td>\n",
              "      <td>121.000000</td>\n",
              "      <td>121.000000</td>\n",
              "      <td>121.000000</td>\n",
              "      <td>121.000000</td>\n",
              "      <td>121.0</td>\n",
              "      <td>121.000000</td>\n",
              "      <td>121.000000</td>\n",
              "    </tr>\n",
              "    <tr>\n",
              "      <th>mean</th>\n",
              "      <td>7423.694215</td>\n",
              "      <td>22.958678</td>\n",
              "      <td>540.404959</td>\n",
              "      <td>16.462810</td>\n",
              "      <td>536.388430</td>\n",
              "      <td>212.115702</td>\n",
              "      <td>1444.264463</td>\n",
              "      <td>43.115702</td>\n",
              "      <td>5.190083</td>\n",
              "      <td>0.066116</td>\n",
              "      <td>25.008264</td>\n",
              "      <td>5.619835</td>\n",
              "      <td>114.520661</td>\n",
              "      <td>7.041322</td>\n",
              "      <td>177.404959</td>\n",
              "      <td>18.016529</td>\n",
              "      <td>62.355372</td>\n",
              "      <td>0.223140</td>\n",
              "      <td>6.966942</td>\n",
              "      <td>71.53719</td>\n",
              "      <td>1.0</td>\n",
              "      <td>305.495868</td>\n",
              "      <td>1.0</td>\n",
              "      <td>746.380165</td>\n",
              "      <td>33.322314</td>\n",
              "      <td>321.611570</td>\n",
              "      <td>13.876033</td>\n",
              "      <td>4.504132</td>\n",
              "      <td>180.429752</td>\n",
              "      <td>16.471074</td>\n",
              "      <td>85.148760</td>\n",
              "      <td>2403.826446</td>\n",
              "      <td>1.0</td>\n",
              "      <td>2012.958678</td>\n",
              "      <td>6.495868</td>\n",
              "    </tr>\n",
              "    <tr>\n",
              "      <th>std</th>\n",
              "      <td>1801.581601</td>\n",
              "      <td>3.773585</td>\n",
              "      <td>73.691879</td>\n",
              "      <td>1.483472</td>\n",
              "      <td>33.228595</td>\n",
              "      <td>117.403165</td>\n",
              "      <td>216.197200</td>\n",
              "      <td>18.735523</td>\n",
              "      <td>1.273539</td>\n",
              "      <td>0.249517</td>\n",
              "      <td>1.744018</td>\n",
              "      <td>0.915207</td>\n",
              "      <td>12.587096</td>\n",
              "      <td>2.936542</td>\n",
              "      <td>22.316503</td>\n",
              "      <td>2.915429</td>\n",
              "      <td>7.282238</td>\n",
              "      <td>0.418083</td>\n",
              "      <td>1.175683</td>\n",
              "      <td>9.55165</td>\n",
              "      <td>0.0</td>\n",
              "      <td>128.069846</td>\n",
              "      <td>0.0</td>\n",
              "      <td>374.123158</td>\n",
              "      <td>22.429971</td>\n",
              "      <td>119.141958</td>\n",
              "      <td>4.497352</td>\n",
              "      <td>0.564564</td>\n",
              "      <td>34.097367</td>\n",
              "      <td>10.968952</td>\n",
              "      <td>16.662163</td>\n",
              "      <td>1025.413694</td>\n",
              "      <td>0.0</td>\n",
              "      <td>2.950697</td>\n",
              "      <td>3.452352</td>\n",
              "    </tr>\n",
              "    <tr>\n",
              "      <th>min</th>\n",
              "      <td>3974.000000</td>\n",
              "      <td>16.000000</td>\n",
              "      <td>398.000000</td>\n",
              "      <td>14.000000</td>\n",
              "      <td>461.000000</td>\n",
              "      <td>81.000000</td>\n",
              "      <td>242.000000</td>\n",
              "      <td>13.000000</td>\n",
              "      <td>2.000000</td>\n",
              "      <td>0.000000</td>\n",
              "      <td>19.000000</td>\n",
              "      <td>4.000000</td>\n",
              "      <td>92.000000</td>\n",
              "      <td>0.000000</td>\n",
              "      <td>113.000000</td>\n",
              "      <td>0.000000</td>\n",
              "      <td>45.000000</td>\n",
              "      <td>0.000000</td>\n",
              "      <td>4.000000</td>\n",
              "      <td>52.00000</td>\n",
              "      <td>1.0</td>\n",
              "      <td>157.000000</td>\n",
              "      <td>1.0</td>\n",
              "      <td>165.000000</td>\n",
              "      <td>13.000000</td>\n",
              "      <td>152.000000</td>\n",
              "      <td>8.000000</td>\n",
              "      <td>3.000000</td>\n",
              "      <td>137.000000</td>\n",
              "      <td>3.000000</td>\n",
              "      <td>59.000000</td>\n",
              "      <td>1055.000000</td>\n",
              "      <td>1.0</td>\n",
              "      <td>2008.000000</td>\n",
              "      <td>1.000000</td>\n",
              "    </tr>\n",
              "    <tr>\n",
              "      <th>25%</th>\n",
              "      <td>5555.000000</td>\n",
              "      <td>20.000000</td>\n",
              "      <td>497.000000</td>\n",
              "      <td>15.000000</td>\n",
              "      <td>534.000000</td>\n",
              "      <td>97.000000</td>\n",
              "      <td>1322.000000</td>\n",
              "      <td>18.000000</td>\n",
              "      <td>5.000000</td>\n",
              "      <td>0.000000</td>\n",
              "      <td>24.000000</td>\n",
              "      <td>5.000000</td>\n",
              "      <td>106.000000</td>\n",
              "      <td>5.000000</td>\n",
              "      <td>162.000000</td>\n",
              "      <td>16.000000</td>\n",
              "      <td>60.000000</td>\n",
              "      <td>0.000000</td>\n",
              "      <td>6.000000</td>\n",
              "      <td>65.00000</td>\n",
              "      <td>1.0</td>\n",
              "      <td>188.000000</td>\n",
              "      <td>1.0</td>\n",
              "      <td>343.000000</td>\n",
              "      <td>13.000000</td>\n",
              "      <td>201.000000</td>\n",
              "      <td>9.000000</td>\n",
              "      <td>4.000000</td>\n",
              "      <td>147.000000</td>\n",
              "      <td>6.000000</td>\n",
              "      <td>71.000000</td>\n",
              "      <td>1243.000000</td>\n",
              "      <td>1.0</td>\n",
              "      <td>2010.000000</td>\n",
              "      <td>4.000000</td>\n",
              "    </tr>\n",
              "    <tr>\n",
              "      <th>50%</th>\n",
              "      <td>7355.000000</td>\n",
              "      <td>22.000000</td>\n",
              "      <td>523.000000</td>\n",
              "      <td>16.000000</td>\n",
              "      <td>544.000000</td>\n",
              "      <td>169.000000</td>\n",
              "      <td>1452.000000</td>\n",
              "      <td>51.000000</td>\n",
              "      <td>6.000000</td>\n",
              "      <td>0.000000</td>\n",
              "      <td>25.000000</td>\n",
              "      <td>5.000000</td>\n",
              "      <td>112.000000</td>\n",
              "      <td>7.000000</td>\n",
              "      <td>186.000000</td>\n",
              "      <td>19.000000</td>\n",
              "      <td>65.000000</td>\n",
              "      <td>0.000000</td>\n",
              "      <td>7.000000</td>\n",
              "      <td>71.00000</td>\n",
              "      <td>1.0</td>\n",
              "      <td>285.000000</td>\n",
              "      <td>1.0</td>\n",
              "      <td>820.000000</td>\n",
              "      <td>18.000000</td>\n",
              "      <td>320.000000</td>\n",
              "      <td>13.000000</td>\n",
              "      <td>5.000000</td>\n",
              "      <td>174.000000</td>\n",
              "      <td>20.000000</td>\n",
              "      <td>85.000000</td>\n",
              "      <td>2533.000000</td>\n",
              "      <td>1.0</td>\n",
              "      <td>2013.000000</td>\n",
              "      <td>6.000000</td>\n",
              "    </tr>\n",
              "    <tr>\n",
              "      <th>75%</th>\n",
              "      <td>9085.000000</td>\n",
              "      <td>26.000000</td>\n",
              "      <td>582.000000</td>\n",
              "      <td>18.000000</td>\n",
              "      <td>559.000000</td>\n",
              "      <td>320.000000</td>\n",
              "      <td>1593.000000</td>\n",
              "      <td>56.000000</td>\n",
              "      <td>6.000000</td>\n",
              "      <td>0.000000</td>\n",
              "      <td>26.000000</td>\n",
              "      <td>6.000000</td>\n",
              "      <td>122.000000</td>\n",
              "      <td>9.000000</td>\n",
              "      <td>192.000000</td>\n",
              "      <td>20.000000</td>\n",
              "      <td>67.000000</td>\n",
              "      <td>0.000000</td>\n",
              "      <td>8.000000</td>\n",
              "      <td>80.00000</td>\n",
              "      <td>1.0</td>\n",
              "      <td>405.000000</td>\n",
              "      <td>1.0</td>\n",
              "      <td>1096.000000</td>\n",
              "      <td>53.000000</td>\n",
              "      <td>433.000000</td>\n",
              "      <td>18.000000</td>\n",
              "      <td>5.000000</td>\n",
              "      <td>209.000000</td>\n",
              "      <td>25.000000</td>\n",
              "      <td>97.000000</td>\n",
              "      <td>3301.000000</td>\n",
              "      <td>1.0</td>\n",
              "      <td>2015.000000</td>\n",
              "      <td>9.000000</td>\n",
              "    </tr>\n",
              "    <tr>\n",
              "      <th>max</th>\n",
              "      <td>10674.000000</td>\n",
              "      <td>29.000000</td>\n",
              "      <td>728.000000</td>\n",
              "      <td>19.000000</td>\n",
              "      <td>588.000000</td>\n",
              "      <td>447.000000</td>\n",
              "      <td>1775.000000</td>\n",
              "      <td>70.000000</td>\n",
              "      <td>7.000000</td>\n",
              "      <td>1.000000</td>\n",
              "      <td>28.000000</td>\n",
              "      <td>8.000000</td>\n",
              "      <td>143.000000</td>\n",
              "      <td>22.000000</td>\n",
              "      <td>215.000000</td>\n",
              "      <td>23.000000</td>\n",
              "      <td>73.000000</td>\n",
              "      <td>1.000000</td>\n",
              "      <td>10.000000</td>\n",
              "      <td>86.00000</td>\n",
              "      <td>1.0</td>\n",
              "      <td>657.000000</td>\n",
              "      <td>1.0</td>\n",
              "      <td>1236.000000</td>\n",
              "      <td>79.000000</td>\n",
              "      <td>543.000000</td>\n",
              "      <td>22.000000</td>\n",
              "      <td>5.000000</td>\n",
              "      <td>251.000000</td>\n",
              "      <td>39.000000</td>\n",
              "      <td>116.000000</td>\n",
              "      <td>4410.000000</td>\n",
              "      <td>1.0</td>\n",
              "      <td>2018.000000</td>\n",
              "      <td>12.000000</td>\n",
              "    </tr>\n",
              "  </tbody>\n",
              "</table>\n",
              "</div>"
            ],
            "text/plain": [
              "       U.S. Crude Oil      Alabama  ...         Year       Month\n",
              "count       121.000000  121.000000  ...   121.000000  121.000000\n",
              "mean       7423.694215   22.958678  ...  2012.958678    6.495868\n",
              "std        1801.581601    3.773585  ...     2.950697    3.452352\n",
              "min        3974.000000   16.000000  ...  2008.000000    1.000000\n",
              "25%        5555.000000   20.000000  ...  2010.000000    4.000000\n",
              "50%        7355.000000   22.000000  ...  2013.000000    6.000000\n",
              "75%        9085.000000   26.000000  ...  2015.000000    9.000000\n",
              "max       10674.000000   29.000000  ...  2018.000000   12.000000\n",
              "\n",
              "[8 rows x 35 columns]"
            ]
          },
          "metadata": {
            "tags": []
          },
          "execution_count": 16
        }
      ]
    },
    {
      "cell_type": "code",
      "metadata": {
        "id": "xvYfiTrQFQlu",
        "colab_type": "code",
        "colab": {
          "base_uri": "https://localhost:8080/",
          "height": 343
        },
        "outputId": "1d917f75-1d8d-42a8-bc66-b214e4b29a82"
      },
      "source": [
        "crude_oil_data.head(5)"
      ],
      "execution_count": 17,
      "outputs": [
        {
          "output_type": "execute_result",
          "data": {
            "text/html": [
              "<div>\n",
              "<style scoped>\n",
              "    .dataframe tbody tr th:only-of-type {\n",
              "        vertical-align: middle;\n",
              "    }\n",
              "\n",
              "    .dataframe tbody tr th {\n",
              "        vertical-align: top;\n",
              "    }\n",
              "\n",
              "    .dataframe thead th {\n",
              "        text-align: right;\n",
              "    }\n",
              "</style>\n",
              "<table border=\"1\" class=\"dataframe\">\n",
              "  <thead>\n",
              "    <tr style=\"text-align: right;\">\n",
              "      <th></th>\n",
              "      <th>U.S. Crude Oil</th>\n",
              "      <th>Alabama</th>\n",
              "      <th>Alaska</th>\n",
              "      <th>Arkansas</th>\n",
              "      <th>California</th>\n",
              "      <th>Colorado</th>\n",
              "      <th>Mexico</th>\n",
              "      <th>Pacific</th>\n",
              "      <th>Florida</th>\n",
              "      <th>Idaho</th>\n",
              "      <th>Illinois</th>\n",
              "      <th>Indiana</th>\n",
              "      <th>Kansas</th>\n",
              "      <th>Kentucky</th>\n",
              "      <th>Louisiana</th>\n",
              "      <th>Michigan</th>\n",
              "      <th>Mississippi</th>\n",
              "      <th>Missouri</th>\n",
              "      <th>Nebraska</th>\n",
              "      <th>Montana</th>\n",
              "      <th>Nevada</th>\n",
              "      <th>New Mexico</th>\n",
              "      <th>New York</th>\n",
              "      <th>North Dakota</th>\n",
              "      <th>Ohio</th>\n",
              "      <th>Oklahoma</th>\n",
              "      <th>Pennsylvania</th>\n",
              "      <th>South Dakota</th>\n",
              "      <th>Wyoming</th>\n",
              "      <th>West Virginia</th>\n",
              "      <th>Utah</th>\n",
              "      <th>Texas</th>\n",
              "      <th>Tennessee</th>\n",
              "      <th>Date</th>\n",
              "      <th>Year</th>\n",
              "      <th>Month</th>\n",
              "    </tr>\n",
              "  </thead>\n",
              "  <tbody>\n",
              "    <tr>\n",
              "      <th>0</th>\n",
              "      <td>5138</td>\n",
              "      <td>21</td>\n",
              "      <td>655</td>\n",
              "      <td>17</td>\n",
              "      <td>583</td>\n",
              "      <td>82</td>\n",
              "      <td>1326</td>\n",
              "      <td>67</td>\n",
              "      <td>5</td>\n",
              "      <td>0</td>\n",
              "      <td>26</td>\n",
              "      <td>5</td>\n",
              "      <td>107</td>\n",
              "      <td>5</td>\n",
              "      <td>215</td>\n",
              "      <td>17</td>\n",
              "      <td>65</td>\n",
              "      <td>0</td>\n",
              "      <td>6</td>\n",
              "      <td>86</td>\n",
              "      <td>1</td>\n",
              "      <td>161</td>\n",
              "      <td>1</td>\n",
              "      <td>165</td>\n",
              "      <td>14</td>\n",
              "      <td>186</td>\n",
              "      <td>8</td>\n",
              "      <td>5</td>\n",
              "      <td>144</td>\n",
              "      <td>6</td>\n",
              "      <td>60</td>\n",
              "      <td>1097</td>\n",
              "      <td>1</td>\n",
              "      <td>2008-06-01</td>\n",
              "      <td>2008</td>\n",
              "      <td>6</td>\n",
              "    </tr>\n",
              "    <tr>\n",
              "      <th>1</th>\n",
              "      <td>5177</td>\n",
              "      <td>21</td>\n",
              "      <td>640</td>\n",
              "      <td>17</td>\n",
              "      <td>586</td>\n",
              "      <td>81</td>\n",
              "      <td>1372</td>\n",
              "      <td>61</td>\n",
              "      <td>6</td>\n",
              "      <td>0</td>\n",
              "      <td>27</td>\n",
              "      <td>5</td>\n",
              "      <td>103</td>\n",
              "      <td>7</td>\n",
              "      <td>214</td>\n",
              "      <td>17</td>\n",
              "      <td>60</td>\n",
              "      <td>0</td>\n",
              "      <td>6</td>\n",
              "      <td>84</td>\n",
              "      <td>1</td>\n",
              "      <td>163</td>\n",
              "      <td>1</td>\n",
              "      <td>172</td>\n",
              "      <td>14</td>\n",
              "      <td>184</td>\n",
              "      <td>8</td>\n",
              "      <td>5</td>\n",
              "      <td>145</td>\n",
              "      <td>5</td>\n",
              "      <td>61</td>\n",
              "      <td>1111</td>\n",
              "      <td>1</td>\n",
              "      <td>2008-07-01</td>\n",
              "      <td>2008</td>\n",
              "      <td>7</td>\n",
              "    </tr>\n",
              "    <tr>\n",
              "      <th>2</th>\n",
              "      <td>5003</td>\n",
              "      <td>21</td>\n",
              "      <td>544</td>\n",
              "      <td>17</td>\n",
              "      <td>588</td>\n",
              "      <td>82</td>\n",
              "      <td>1272</td>\n",
              "      <td>70</td>\n",
              "      <td>5</td>\n",
              "      <td>0</td>\n",
              "      <td>26</td>\n",
              "      <td>5</td>\n",
              "      <td>110</td>\n",
              "      <td>10</td>\n",
              "      <td>203</td>\n",
              "      <td>17</td>\n",
              "      <td>59</td>\n",
              "      <td>0</td>\n",
              "      <td>7</td>\n",
              "      <td>84</td>\n",
              "      <td>1</td>\n",
              "      <td>163</td>\n",
              "      <td>1</td>\n",
              "      <td>178</td>\n",
              "      <td>14</td>\n",
              "      <td>188</td>\n",
              "      <td>8</td>\n",
              "      <td>5</td>\n",
              "      <td>145</td>\n",
              "      <td>6</td>\n",
              "      <td>62</td>\n",
              "      <td>1110</td>\n",
              "      <td>1</td>\n",
              "      <td>2008-08-01</td>\n",
              "      <td>2008</td>\n",
              "      <td>8</td>\n",
              "    </tr>\n",
              "    <tr>\n",
              "      <th>3</th>\n",
              "      <td>3974</td>\n",
              "      <td>21</td>\n",
              "      <td>681</td>\n",
              "      <td>16</td>\n",
              "      <td>587</td>\n",
              "      <td>88</td>\n",
              "      <td>242</td>\n",
              "      <td>67</td>\n",
              "      <td>5</td>\n",
              "      <td>0</td>\n",
              "      <td>27</td>\n",
              "      <td>6</td>\n",
              "      <td>116</td>\n",
              "      <td>4</td>\n",
              "      <td>113</td>\n",
              "      <td>17</td>\n",
              "      <td>60</td>\n",
              "      <td>0</td>\n",
              "      <td>7</td>\n",
              "      <td>86</td>\n",
              "      <td>1</td>\n",
              "      <td>157</td>\n",
              "      <td>1</td>\n",
              "      <td>189</td>\n",
              "      <td>14</td>\n",
              "      <td>186</td>\n",
              "      <td>8</td>\n",
              "      <td>5</td>\n",
              "      <td>144</td>\n",
              "      <td>6</td>\n",
              "      <td>63</td>\n",
              "      <td>1055</td>\n",
              "      <td>1</td>\n",
              "      <td>2008-09-01</td>\n",
              "      <td>2008</td>\n",
              "      <td>9</td>\n",
              "    </tr>\n",
              "    <tr>\n",
              "      <th>4</th>\n",
              "      <td>4738</td>\n",
              "      <td>21</td>\n",
              "      <td>716</td>\n",
              "      <td>17</td>\n",
              "      <td>586</td>\n",
              "      <td>86</td>\n",
              "      <td>803</td>\n",
              "      <td>66</td>\n",
              "      <td>6</td>\n",
              "      <td>0</td>\n",
              "      <td>26</td>\n",
              "      <td>6</td>\n",
              "      <td>111</td>\n",
              "      <td>8</td>\n",
              "      <td>186</td>\n",
              "      <td>17</td>\n",
              "      <td>64</td>\n",
              "      <td>0</td>\n",
              "      <td>7</td>\n",
              "      <td>86</td>\n",
              "      <td>1</td>\n",
              "      <td>169</td>\n",
              "      <td>1</td>\n",
              "      <td>203</td>\n",
              "      <td>14</td>\n",
              "      <td>185</td>\n",
              "      <td>8</td>\n",
              "      <td>5</td>\n",
              "      <td>145</td>\n",
              "      <td>6</td>\n",
              "      <td>64</td>\n",
              "      <td>1125</td>\n",
              "      <td>1</td>\n",
              "      <td>2008-10-01</td>\n",
              "      <td>2008</td>\n",
              "      <td>10</td>\n",
              "    </tr>\n",
              "  </tbody>\n",
              "</table>\n",
              "</div>"
            ],
            "text/plain": [
              "   U.S. Crude Oil   Alabama  Alaska  ...       Date  Year  Month\n",
              "0             5138       21     655  ... 2008-06-01  2008      6\n",
              "1             5177       21     640  ... 2008-07-01  2008      7\n",
              "2             5003       21     544  ... 2008-08-01  2008      8\n",
              "3             3974       21     681  ... 2008-09-01  2008      9\n",
              "4             4738       21     716  ... 2008-10-01  2008     10\n",
              "\n",
              "[5 rows x 36 columns]"
            ]
          },
          "metadata": {
            "tags": []
          },
          "execution_count": 17
        }
      ]
    },
    {
      "cell_type": "code",
      "metadata": {
        "id": "CuEqFNS-Fejd",
        "colab_type": "code",
        "colab": {
          "base_uri": "https://localhost:8080/",
          "height": 530
        },
        "outputId": "a0db5eca-c61a-4561-cad9-fb9e0160864a"
      },
      "source": [
        "# Simple line plot representation, how oil production varied across the years\n",
        "# Time Series representation\n",
        "crude_oil_data.plot(x = 'Date', y= 'U.S. Crude Oil ', figsize = (12,8), color = 'brown')\n",
        "plt.ylabel('Production')\n",
        "plt.title('U.S. Crude Oil Production')"
      ],
      "execution_count": 18,
      "outputs": [
        {
          "output_type": "execute_result",
          "data": {
            "text/plain": [
              "Text(0.5, 1.0, 'U.S. Crude Oil Production')"
            ]
          },
          "metadata": {
            "tags": []
          },
          "execution_count": 18
        },
        {
          "output_type": "display_data",
          "data": {
            "image/png": "[encoded data removed]",
            "text/plain": [
              "<Figure size 864x576 with 1 Axes>"
            ]
          },
          "metadata": {
            "tags": [],
            "needs_background": "light"
          }
        }
      ]
    },
    {
      "cell_type": "code",
      "metadata": {
        "id": "Sjqi4DuIOWCh",
        "colab_type": "code",
        "colab": {
          "base_uri": "https://localhost:8080/",
          "height": 516
        },
        "outputId": "3af067fe-a08f-433f-c765-3459ce9e1162"
      },
      "source": [
        "# Height of box gives us the IQR\n",
        "crude_oil_data.boxplot('U.S. Crude Oil ', figsize = (12,8))\n",
        "plt.ylabel('Production')\n",
        "plt.title('U.S. Crude Oil Production')"
      ],
      "execution_count": 19,
      "outputs": [
        {
          "output_type": "execute_result",
          "data": {
            "text/plain": [
              "Text(0.5, 1.0, 'U.S. Crude Oil Production')"
            ]
          },
          "metadata": {
            "tags": []
          },
          "execution_count": 19
        },
        {
          "output_type": "display_data",
          "data": {
            "image/png": "[encoded data removed]",
            "text/plain": [
              "<Figure size 864x576 with 1 Axes>"
            ]
          },
          "metadata": {
            "tags": [],
            "needs_background": "light"
          }
        }
      ]
    },
    {
      "cell_type": "code",
      "metadata": {
        "id": "UnUUhBFmPcX8",
        "colab_type": "code",
        "colab": {
          "base_uri": "https://localhost:8080/",
          "height": 516
        },
        "outputId": "7cff10a1-027f-4cfc-aac2-bc79e0bfc999"
      },
      "source": [
        "# Box plot representation for crude oil production for the state \"California\".\n",
        "# Points below the whisker are outliers.\n",
        "# For few months in California, crude oil production fell far below the normal range.\n",
        "crude_oil_data.boxplot('California', figsize = (12,8))\n",
        "plt.ylabel('Production in California')\n",
        "plt.title('California Crude Oil Production')"
      ],
      "execution_count": 20,
      "outputs": [
        {
          "output_type": "execute_result",
          "data": {
            "text/plain": [
              "Text(0.5, 1.0, 'California Crude Oil Production')"
            ]
          },
          "metadata": {
            "tags": []
          },
          "execution_count": 20
        },
        {
          "output_type": "display_data",
          "data": {
            "image/png": "[encoded data removed]",
            "text/plain": [
              "<Figure size 864x576 with 1 Axes>"
            ]
          },
          "metadata": {
            "tags": [],
            "needs_background": "light"
          }
        }
      ]
    },
    {
      "cell_type": "code",
      "metadata": {
        "id": "vV2AfQYFP9Gj",
        "colab_type": "code",
        "colab": {
          "base_uri": "https://localhost:8080/",
          "height": 516
        },
        "outputId": "d0790809-dba0-4a7c-cc42-1817c5352caf"
      },
      "source": [
        "# Box plot being used to compare summary statistics of distribution for 2 columns in data.\n",
        "crude_oil_data[['Alaska', 'California']].boxplot(figsize = (12,8))\n",
        "plt.ylabel('Production in Alaska, California')\n",
        "plt.title('Alaska, California Crude Oil Production')\n",
        "\n",
        "# Alaska - We have Positive outliers\n",
        "# California - We have negative outliers"
      ],
      "execution_count": 21,
      "outputs": [
        {
          "output_type": "execute_result",
          "data": {
            "text/plain": [
              "Text(0.5, 1.0, 'Alaska, California Crude Oil Production')"
            ]
          },
          "metadata": {
            "tags": []
          },
          "execution_count": 21
        },
        {
          "output_type": "display_data",
          "data": {
            "image/png": "[encoded data removed]",
            "text/plain": [
              "<Figure size 864x576 with 1 Axes>"
            ]
          },
          "metadata": {
            "tags": [],
            "needs_background": "light"
          }
        }
      ]
    },
    {
      "cell_type": "code",
      "metadata": {
        "id": "tn7U-9QdQ3MS",
        "colab_type": "code",
        "colab": {
          "base_uri": "https://localhost:8080/",
          "height": 557
        },
        "outputId": "ee43a1d2-d06d-40b2-90d4-64ae90058519"
      },
      "source": [
        "# Box plot of each year of production\n",
        "crude_oil_data.boxplot('U.S. Crude Oil ', by = 'Year', figsize = (12,8))\n",
        "plt.ylabel('Production')\n",
        "plt.title('US Crude Oil Production by Year')"
      ],
      "execution_count": 22,
      "outputs": [
        {
          "output_type": "execute_result",
          "data": {
            "text/plain": [
              "Text(0.5, 1.0, 'US Crude Oil Production by Year')"
            ]
          },
          "metadata": {
            "tags": []
          },
          "execution_count": 22
        },
        {
          "output_type": "display_data",
          "data": {
            "image/png": "[encoded data removed]",
            "text/plain": [
              "<Figure size 864x576 with 1 Axes>"
            ]
          },
          "metadata": {
            "tags": [],
            "needs_background": "light"
          }
        }
      ]
    },
    {
      "cell_type": "code",
      "metadata": {
        "id": "9I7VXZvrRaAp",
        "colab_type": "code",
        "colab": {
          "base_uri": "https://localhost:8080/",
          "height": 390
        },
        "outputId": "31833dac-deeb-4aa7-81a4-098c060320b2"
      },
      "source": [
        "# Grouping on the basis of year column\n",
        "year_data = crude_oil_data.groupby('Year', as_index=False).sum()\n",
        "year_data[['Year', 'U.S. Crude Oil ']]"
      ],
      "execution_count": 23,
      "outputs": [
        {
          "output_type": "execute_result",
          "data": {
            "text/html": [
              "<div>\n",
              "<style scoped>\n",
              "    .dataframe tbody tr th:only-of-type {\n",
              "        vertical-align: middle;\n",
              "    }\n",
              "\n",
              "    .dataframe tbody tr th {\n",
              "        vertical-align: top;\n",
              "    }\n",
              "\n",
              "    .dataframe thead th {\n",
              "        text-align: right;\n",
              "    }\n",
              "</style>\n",
              "<table border=\"1\" class=\"dataframe\">\n",
              "  <thead>\n",
              "    <tr style=\"text-align: right;\">\n",
              "      <th></th>\n",
              "      <th>Year</th>\n",
              "      <th>U.S. Crude Oil</th>\n",
              "    </tr>\n",
              "  </thead>\n",
              "  <tbody>\n",
              "    <tr>\n",
              "      <th>0</th>\n",
              "      <td>2008</td>\n",
              "      <td>34211</td>\n",
              "    </tr>\n",
              "    <tr>\n",
              "      <th>1</th>\n",
              "      <td>2009</td>\n",
              "      <td>64180</td>\n",
              "    </tr>\n",
              "    <tr>\n",
              "      <th>2</th>\n",
              "      <td>2010</td>\n",
              "      <td>65741</td>\n",
              "    </tr>\n",
              "    <tr>\n",
              "      <th>3</th>\n",
              "      <td>2011</td>\n",
              "      <td>67829</td>\n",
              "    </tr>\n",
              "    <tr>\n",
              "      <th>4</th>\n",
              "      <td>2012</td>\n",
              "      <td>78007</td>\n",
              "    </tr>\n",
              "    <tr>\n",
              "      <th>5</th>\n",
              "      <td>2013</td>\n",
              "      <td>89585</td>\n",
              "    </tr>\n",
              "    <tr>\n",
              "      <th>6</th>\n",
              "      <td>2014</td>\n",
              "      <td>105064</td>\n",
              "    </tr>\n",
              "    <tr>\n",
              "      <th>7</th>\n",
              "      <td>2015</td>\n",
              "      <td>113179</td>\n",
              "    </tr>\n",
              "    <tr>\n",
              "      <th>8</th>\n",
              "      <td>2016</td>\n",
              "      <td>105970</td>\n",
              "    </tr>\n",
              "    <tr>\n",
              "      <th>9</th>\n",
              "      <td>2017</td>\n",
              "      <td>112205</td>\n",
              "    </tr>\n",
              "    <tr>\n",
              "      <th>10</th>\n",
              "      <td>2018</td>\n",
              "      <td>62296</td>\n",
              "    </tr>\n",
              "  </tbody>\n",
              "</table>\n",
              "</div>"
            ],
            "text/plain": [
              "    Year  U.S. Crude Oil \n",
              "0   2008            34211\n",
              "1   2009            64180\n",
              "2   2010            65741\n",
              "3   2011            67829\n",
              "4   2012            78007\n",
              "5   2013            89585\n",
              "6   2014           105064\n",
              "7   2015           113179\n",
              "8   2016           105970\n",
              "9   2017           112205\n",
              "10  2018            62296"
            ]
          },
          "metadata": {
            "tags": []
          },
          "execution_count": 23
        }
      ]
    },
    {
      "cell_type": "code",
      "metadata": {
        "id": "8FvtWwytStIK",
        "colab_type": "code",
        "colab": {
          "base_uri": "https://localhost:8080/",
          "height": 545
        },
        "outputId": "5530427e-7bbe-466a-f98d-c053f4a7431f"
      },
      "source": [
        "colors = ['C0', 'C1', 'C2', 'C3', 'C4', 'C5', 'C6', 'C7', 'C8', 'C9']\n",
        "year_data.plot.bar(x = 'Year', y = 'U.S. Crude Oil ', figsize = (12,8), color = colors, legend = False)\n",
        "plt.ylabel('Production')\n",
        "plt.title('U.S Crude Oil Production')"
      ],
      "execution_count": 24,
      "outputs": [
        {
          "output_type": "execute_result",
          "data": {
            "text/plain": [
              "Text(0.5, 1.0, 'U.S Crude Oil Production')"
            ]
          },
          "metadata": {
            "tags": []
          },
          "execution_count": 24
        },
        {
          "output_type": "display_data",
          "data": {
            "image/png": "[encoded data removed]",
            "text/plain": [
              "<Figure size 864x576 with 1 Axes>"
            ]
          },
          "metadata": {
            "tags": [],
            "needs_background": "light"
          }
        }
      ]
    },
    {
      "cell_type": "code",
      "metadata": {
        "id": "BXH5cP09TgEL",
        "colab_type": "code",
        "colab": {
          "base_uri": "https://localhost:8080/",
          "height": 561
        },
        "outputId": "5e69d52e-11d5-4590-d277-4c153f4a2868"
      },
      "source": [
        "# Average Crude Oil Production for Individual States\n",
        "# Eliminating results for 1st column(US) and last 3 column (Month date year)\n",
        "mean_prod_data = crude_oil_data.mean()[1:-3]\n",
        "mean_prod_data"
      ],
      "execution_count": 25,
      "outputs": [
        {
          "output_type": "execute_result",
          "data": {
            "text/plain": [
              "Alabama            22.958678\n",
              "Alaska            540.404959\n",
              "Arkansas           16.462810\n",
              "California        536.388430\n",
              "Colorado          212.115702\n",
              "Mexico           1444.264463\n",
              "Pacific            43.115702\n",
              "Florida             5.190083\n",
              "Idaho               0.066116\n",
              "Illinois           25.008264\n",
              "Indiana             5.619835\n",
              "Kansas            114.520661\n",
              "Kentucky            7.041322\n",
              "Louisiana         177.404959\n",
              "Michigan           18.016529\n",
              "Mississippi        62.355372\n",
              "Missouri            0.223140\n",
              "Nebraska            6.966942\n",
              "Montana            71.537190\n",
              "Nevada              1.000000\n",
              "New Mexico        305.495868\n",
              "New York            1.000000\n",
              "North Dakota      746.380165\n",
              "Ohio               33.322314\n",
              "Oklahoma          321.611570\n",
              "Pennsylvania       13.876033\n",
              "South Dakota        4.504132\n",
              "Wyoming           180.429752\n",
              "West Virginia      16.471074\n",
              "Utah               85.148760\n",
              "Texas            2403.826446\n",
              "dtype: float64"
            ]
          },
          "metadata": {
            "tags": []
          },
          "execution_count": 25
        }
      ]
    },
    {
      "cell_type": "code",
      "metadata": {
        "id": "wraIi40nT9LK",
        "colab_type": "code",
        "colab": {
          "base_uri": "https://localhost:8080/",
          "height": 561
        },
        "outputId": "51cd159b-8a1a-41dc-f905-54208ffdabfe"
      },
      "source": [
        "# Sorting Data - Desending order of average oil production\n",
        "mean_prod_data = mean_prod_data.sort_values(ascending=False)\n",
        "mean_prod_data\n",
        "# Oil production in Texas is the most"
      ],
      "execution_count": 26,
      "outputs": [
        {
          "output_type": "execute_result",
          "data": {
            "text/plain": [
              "Texas            2403.826446\n",
              "Mexico           1444.264463\n",
              "North Dakota      746.380165\n",
              "Alaska            540.404959\n",
              "California        536.388430\n",
              "Oklahoma          321.611570\n",
              "New Mexico        305.495868\n",
              "Colorado          212.115702\n",
              "Wyoming           180.429752\n",
              "Louisiana         177.404959\n",
              "Kansas            114.520661\n",
              "Utah               85.148760\n",
              "Montana            71.537190\n",
              "Mississippi        62.355372\n",
              "Pacific            43.115702\n",
              "Ohio               33.322314\n",
              "Illinois           25.008264\n",
              "Alabama            22.958678\n",
              "Michigan           18.016529\n",
              "West Virginia      16.471074\n",
              "Arkansas           16.462810\n",
              "Pennsylvania       13.876033\n",
              "Kentucky            7.041322\n",
              "Nebraska            6.966942\n",
              "Indiana             5.619835\n",
              "Florida             5.190083\n",
              "South Dakota        4.504132\n",
              "Nevada              1.000000\n",
              "New York            1.000000\n",
              "Missouri            0.223140\n",
              "Idaho               0.066116\n",
              "dtype: float64"
            ]
          },
          "metadata": {
            "tags": []
          },
          "execution_count": 26
        }
      ]
    },
    {
      "cell_type": "code",
      "metadata": {
        "id": "Ojsqk7maUbKU",
        "colab_type": "code",
        "colab": {
          "base_uri": "https://localhost:8080/",
          "height": 359
        },
        "outputId": "1c3823af-00eb-41de-fd77-62cb5c074520"
      },
      "source": [
        "# Creating new Dataframe\n",
        "mean_prod_df = pd.DataFrame(mean_prod_data).reset_index()\n",
        "mean_prod_df.columns = ['State', 'Production']\n",
        "mean_prod_df.head(10)"
      ],
      "execution_count": 27,
      "outputs": [
        {
          "output_type": "execute_result",
          "data": {
            "text/html": [
              "<div>\n",
              "<style scoped>\n",
              "    .dataframe tbody tr th:only-of-type {\n",
              "        vertical-align: middle;\n",
              "    }\n",
              "\n",
              "    .dataframe tbody tr th {\n",
              "        vertical-align: top;\n",
              "    }\n",
              "\n",
              "    .dataframe thead th {\n",
              "        text-align: right;\n",
              "    }\n",
              "</style>\n",
              "<table border=\"1\" class=\"dataframe\">\n",
              "  <thead>\n",
              "    <tr style=\"text-align: right;\">\n",
              "      <th></th>\n",
              "      <th>State</th>\n",
              "      <th>Production</th>\n",
              "    </tr>\n",
              "  </thead>\n",
              "  <tbody>\n",
              "    <tr>\n",
              "      <th>0</th>\n",
              "      <td>Texas</td>\n",
              "      <td>2403.826446</td>\n",
              "    </tr>\n",
              "    <tr>\n",
              "      <th>1</th>\n",
              "      <td>Mexico</td>\n",
              "      <td>1444.264463</td>\n",
              "    </tr>\n",
              "    <tr>\n",
              "      <th>2</th>\n",
              "      <td>North Dakota</td>\n",
              "      <td>746.380165</td>\n",
              "    </tr>\n",
              "    <tr>\n",
              "      <th>3</th>\n",
              "      <td>Alaska</td>\n",
              "      <td>540.404959</td>\n",
              "    </tr>\n",
              "    <tr>\n",
              "      <th>4</th>\n",
              "      <td>California</td>\n",
              "      <td>536.388430</td>\n",
              "    </tr>\n",
              "    <tr>\n",
              "      <th>5</th>\n",
              "      <td>Oklahoma</td>\n",
              "      <td>321.611570</td>\n",
              "    </tr>\n",
              "    <tr>\n",
              "      <th>6</th>\n",
              "      <td>New Mexico</td>\n",
              "      <td>305.495868</td>\n",
              "    </tr>\n",
              "    <tr>\n",
              "      <th>7</th>\n",
              "      <td>Colorado</td>\n",
              "      <td>212.115702</td>\n",
              "    </tr>\n",
              "    <tr>\n",
              "      <th>8</th>\n",
              "      <td>Wyoming</td>\n",
              "      <td>180.429752</td>\n",
              "    </tr>\n",
              "    <tr>\n",
              "      <th>9</th>\n",
              "      <td>Louisiana</td>\n",
              "      <td>177.404959</td>\n",
              "    </tr>\n",
              "  </tbody>\n",
              "</table>\n",
              "</div>"
            ],
            "text/plain": [
              "          State   Production\n",
              "0         Texas  2403.826446\n",
              "1        Mexico  1444.264463\n",
              "2  North Dakota   746.380165\n",
              "3        Alaska   540.404959\n",
              "4    California   536.388430\n",
              "5      Oklahoma   321.611570\n",
              "6    New Mexico   305.495868\n",
              "7      Colorado   212.115702\n",
              "8       Wyoming   180.429752\n",
              "9     Louisiana   177.404959"
            ]
          },
          "metadata": {
            "tags": []
          },
          "execution_count": 27
        }
      ]
    },
    {
      "cell_type": "code",
      "metadata": {
        "id": "1O6hZsC1j9kN",
        "colab_type": "code",
        "colab": {
          "base_uri": "https://localhost:8080/",
          "height": 587
        },
        "outputId": "b5c5628c-1bd4-4c99-ae01-aecadb6a2db5"
      },
      "source": [
        "# Average Oil production for each state.\n",
        "plt.figure(figsize = (12,8))\n",
        "plt.bar(mean_prod_df['State'], mean_prod_df['Production'], width= 0.85)\n",
        "plt.title('U.S Oil Mean Production June 2008 to June 2018')\n",
        "plt.xticks(rotation = 90)\n",
        "plt.xlabel('State')\n",
        "plt.ylabel('Production')"
      ],
      "execution_count": 29,
      "outputs": [
        {
          "output_type": "execute_result",
          "data": {
            "text/plain": [
              "Text(0, 0.5, 'Production')"
            ]
          },
          "metadata": {
            "tags": []
          },
          "execution_count": 29
        },
        {
          "output_type": "display_data",
          "data": {
            "image/png": "[encoded data removed]",
            "text/plain": [
              "<Figure size 864x576 with 1 Axes>"
            ]
          },
          "metadata": {
            "tags": [],
            "needs_background": "light"
          }
        }
      ]
    },
    {
      "cell_type": "code",
      "metadata": {
        "id": "4-p-9SIfpGG2",
        "colab_type": "code",
        "colab": {
          "base_uri": "https://localhost:8080/",
          "height": 513
        },
        "outputId": "24e34d6d-9b4c-416d-a58e-0978041170c0"
      },
      "source": [
        "# Visualising in the form of probability density distribution.\n",
        "mean_prod_df['Production'].plot.kde(figsize=(12,8))\n",
        "\n",
        "plt.title('U.S Oil Production June 2008 to June 2018')\n",
        "plt.xlabel('Oil Production')\n",
        "plt.show()"
      ],
      "execution_count": 34,
      "outputs": [
        {
          "output_type": "display_data",
          "data": {
            "image/png": "[encoded data removed]",
            "text/plain": [
              "<Figure size 864x576 with 1 Axes>"
            ]
          },
          "metadata": {
            "tags": [],
            "needs_background": "light"
          }
        }
      ]
    },
    {
      "cell_type": "code",
      "metadata": {
        "id": "7tg4ysqBtd4A",
        "colab_type": "code",
        "colab": {
          "base_uri": "https://localhost:8080/",
          "height": 500
        },
        "outputId": "99af03c5-514d-4a38-c0fd-227e53a3d20b"
      },
      "source": [
        "# Previously we saw that Texas has max oil production\n",
        "# We will plot scatter plot of Texas vs US oil production\n",
        "plt.figure(figsize=(12,8))\n",
        "plt.scatter(crude_oil_data['Texas'], crude_oil_data['U.S. Crude Oil '])\n",
        "plt.xlabel('US Production')\n",
        "plt.ylabel('Texas Production')\n",
        "plt.show()\n",
        "\n",
        "# Shows a linear relationship\n",
        "# shows how much Texas influences the Total oil Production in U.S\n",
        "# Texas produces more oil, Entire US produces more oil."
      ],
      "execution_count": 40,
      "outputs": [
        {
          "output_type": "display_data",
          "data": {
            "image/png": "[encoded data removed]",
            "text/plain": [
              "<Figure size 864x576 with 1 Axes>"
            ]
          },
          "metadata": {
            "tags": [],
            "needs_background": "light"
          }
        }
      ]
    },
    {
      "cell_type": "code",
      "metadata": {
        "id": "4YN34Bv5u8g2",
        "colab_type": "code",
        "colab": {
          "base_uri": "https://localhost:8080/",
          "height": 500
        },
        "outputId": "e102e1dc-508f-4953-9264-8d69166030a2"
      },
      "source": [
        "# We will plot scatter plot of California vs US oil production\n",
        "plt.figure(figsize=(12,8))\n",
        "plt.scatter(crude_oil_data['California'], crude_oil_data['U.S. Crude Oil '], c = 'y')\n",
        "plt.xlabel('US Production')\n",
        "plt.ylabel('California Production')\n",
        "plt.show()\n",
        "\n",
        "# No linear relationship\n",
        "# Shows that total oil production in California doesn not effect the Total oil Production in U.S"
      ],
      "execution_count": 43,
      "outputs": [
        {
          "output_type": "display_data",
          "data": {
            "image/png": "[encoded data removed]",
            "text/plain": [
              "<Figure size 864x576 with 1 Axes>"
            ]
          },
          "metadata": {
            "tags": [],
            "needs_background": "light"
          }
        }
      ]
    },
    {
      "cell_type": "code",
      "metadata": {
        "id": "ECF-5GHvvW4g",
        "colab_type": "code",
        "colab": {
          "base_uri": "https://localhost:8080/",
          "height": 500
        },
        "outputId": "1d586f33-3fef-44af-b19e-0168e7904010"
      },
      "source": [
        "# We will plot scatter plot of Michigan vs US oil production\n",
        "plt.figure(figsize=(12,8))\n",
        "plt.scatter(crude_oil_data['Michigan'], crude_oil_data['U.S. Crude Oil '], c = 'g')\n",
        "plt.xlabel('US Production')\n",
        "plt.ylabel('Michigan Production')\n",
        "plt.show()\n",
        "\n",
        "# No linear relationship. No relationship at all\n",
        "# Shows that total oil production in Michigan doesn not effect the Total oil Production in U.S"
      ],
      "execution_count": 44,
      "outputs": [
        {
          "output_type": "display_data",
          "data": {
            "image/png": "[encoded data removed]",
            "text/plain": [
              "<Figure size 864x576 with 1 Axes>"
            ]
          },
          "metadata": {
            "tags": [],
            "needs_background": "light"
          }
        }
      ]
    }
  ]
}