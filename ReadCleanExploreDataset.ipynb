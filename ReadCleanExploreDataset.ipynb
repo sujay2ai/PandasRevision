{
  "nbformat": 4,
  "nbformat_minor": 0,
  "metadata": {
    "colab": {
      "name": "ReadCleanExploreDataset.ipynb",
      "provenance": [],
      "authorship_tag": "ABX9TyOCYyGRlxh/uwiK17MbeljV",
      "include_colab_link": true
    },
    "kernelspec": {
      "name": "python3",
      "display_name": "Python 3"
    }
  },
  "cells": [
    {
      "cell_type": "markdown",
      "metadata": {
        "id": "view-in-github",
        "colab_type": "text"
      },
      "source": [
        "<a href=\"https://colab.research.google.com/github/VitikaJain25/PandasRevision/blob/master/ReadCleanExploreDataset.ipynb\" target=\"_parent\"><img src=\"https://colab.research.google.com/assets/colab-badge.svg\" alt=\"Open In Colab\"/></a>"
      ]
    },
    {
      "cell_type": "code",
      "metadata": {
        "id": "ydWqaEXihbre",
        "colab_type": "code",
        "colab": {}
      },
      "source": [
        "import sklearn\n",
        "\n",
        "import pandas as pd\n",
        "import numpy as np\n",
        "\n",
        "import datetime"
      ],
      "execution_count": 0,
      "outputs": []
    },
    {
      "cell_type": "code",
      "metadata": {
        "id": "HIOmG9OiicbK",
        "colab_type": "code",
        "colab": {
          "resources": {
            "http://localhost:8080/nbextensions/google.colab/files.js": {
              "data": "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",
              "ok": true,
              "headers": [
                [
                  "content-type",
                  "application/javascript"
                ]
              ],
              "status": 200,
              "status_text": ""
            }
          },
          "base_uri": "https://localhost:8080/",
          "height": 71
        },
        "outputId": "a215a1f4-1c59-4fc8-82df-44b94c9c065d"
      },
      "source": [
        "from google.colab import files  #To read file from local\n",
        "import io\n",
        "uploaded = files.upload()   # To upload file from local.\n",
        "\n",
        "automobile_df = pd.read_csv(io.BytesIO(uploaded['cars.csv']))"
      ],
      "execution_count": 3,
      "outputs": [
        {
          "output_type": "display_data",
          "data": {
            "text/html": [
              "\n",
              "     <input type=\"file\" id=\"files-ce33613e-dfab-4269-a802-bb5cc402d985\" name=\"files[]\" multiple disabled />\n",
              "     <output id=\"result-ce33613e-dfab-4269-a802-bb5cc402d985\">\n",
              "      Upload widget is only available when the cell has been executed in the\n",
              "      current browser session. Please rerun this cell to enable.\n",
              "      </output>\n",
              "      <script src=\"/nbextensions/google.colab/files.js\"></script> "
            ],
            "text/plain": [
              "<IPython.core.display.HTML object>"
            ]
          },
          "metadata": {
            "tags": []
          }
        },
        {
          "output_type": "stream",
          "text": [
            "Saving cars.csv to cars.csv\n"
          ],
          "name": "stdout"
        }
      ]
    },
    {
      "cell_type": "code",
      "metadata": {
        "id": "FZbKnyRWiVtr",
        "colab_type": "code",
        "colab": {
          "base_uri": "https://localhost:8080/",
          "height": 204
        },
        "outputId": "9a8009a8-1198-49ea-cace-a0c9c8be2adc"
      },
      "source": [
        "automobile_df.head(5)"
      ],
      "execution_count": 4,
      "outputs": [
        {
          "output_type": "execute_result",
          "data": {
            "text/html": [
              "<div>\n",
              "<style scoped>\n",
              "    .dataframe tbody tr th:only-of-type {\n",
              "        vertical-align: middle;\n",
              "    }\n",
              "\n",
              "    .dataframe tbody tr th {\n",
              "        vertical-align: top;\n",
              "    }\n",
              "\n",
              "    .dataframe thead th {\n",
              "        text-align: right;\n",
              "    }\n",
              "</style>\n",
              "<table border=\"1\" class=\"dataframe\">\n",
              "  <thead>\n",
              "    <tr style=\"text-align: right;\">\n",
              "      <th></th>\n",
              "      <th>Model</th>\n",
              "      <th>MPG</th>\n",
              "      <th>Cylinders</th>\n",
              "      <th>Displacement</th>\n",
              "      <th>Horsepower</th>\n",
              "      <th>Weight</th>\n",
              "      <th>Acceleration</th>\n",
              "      <th>Year</th>\n",
              "      <th>Origin</th>\n",
              "      <th>bore</th>\n",
              "      <th>stroke</th>\n",
              "      <th>compression-ratio</th>\n",
              "    </tr>\n",
              "  </thead>\n",
              "  <tbody>\n",
              "    <tr>\n",
              "      <th>0</th>\n",
              "      <td>chevrolet chevelle malibu</td>\n",
              "      <td>18.0</td>\n",
              "      <td>8</td>\n",
              "      <td>307</td>\n",
              "      <td>130</td>\n",
              "      <td>3504</td>\n",
              "      <td>12</td>\n",
              "      <td>1970[1975]</td>\n",
              "      <td>US; Detroit, Michigan</td>\n",
              "      <td>3.47</td>\n",
              "      <td>2.68</td>\n",
              "      <td>9</td>\n",
              "    </tr>\n",
              "    <tr>\n",
              "      <th>1</th>\n",
              "      <td>buick skylark 320</td>\n",
              "      <td>15.0</td>\n",
              "      <td>8</td>\n",
              "      <td>350</td>\n",
              "      <td>165</td>\n",
              "      <td>3693</td>\n",
              "      <td>11.5</td>\n",
              "      <td>1970</td>\n",
              "      <td>US]</td>\n",
              "      <td>3.47</td>\n",
              "      <td>2.68</td>\n",
              "      <td>?</td>\n",
              "    </tr>\n",
              "    <tr>\n",
              "      <th>2</th>\n",
              "      <td>plymouth satellite</td>\n",
              "      <td>18.0</td>\n",
              "      <td>?</td>\n",
              "      <td>318</td>\n",
              "      <td>150</td>\n",
              "      <td>3436</td>\n",
              "      <td>11</td>\n",
              "      <td>1970, 1976</td>\n",
              "      <td>US</td>\n",
              "      <td>2.68</td>\n",
              "      <td>3.47</td>\n",
              "      <td>9</td>\n",
              "    </tr>\n",
              "    <tr>\n",
              "      <th>3</th>\n",
              "      <td>amc rebel sst</td>\n",
              "      <td>16.0</td>\n",
              "      <td>8</td>\n",
              "      <td>304</td>\n",
              "      <td>150</td>\n",
              "      <td>3433</td>\n",
              "      <td>12</td>\n",
              "      <td>1970</td>\n",
              "      <td>US</td>\n",
              "      <td>3.19</td>\n",
              "      <td>3.40</td>\n",
              "      <td>10</td>\n",
              "    </tr>\n",
              "    <tr>\n",
              "      <th>4</th>\n",
              "      <td>ford torino</td>\n",
              "      <td>17.0</td>\n",
              "      <td>8</td>\n",
              "      <td>302</td>\n",
              "      <td>140</td>\n",
              "      <td>3449</td>\n",
              "      <td>10.5</td>\n",
              "      <td>1970-1972</td>\n",
              "      <td>US]</td>\n",
              "      <td>3.19</td>\n",
              "      <td>3.40</td>\n",
              "      <td>8</td>\n",
              "    </tr>\n",
              "  </tbody>\n",
              "</table>\n",
              "</div>"
            ],
            "text/plain": [
              "                       Model   MPG Cylinders  ...  bore  stroke compression-ratio\n",
              "0  chevrolet chevelle malibu  18.0         8  ...  3.47    2.68                 9\n",
              "1          buick skylark 320  15.0         8  ...  3.47    2.68                 ?\n",
              "2         plymouth satellite  18.0         ?  ...  2.68    3.47                 9\n",
              "3              amc rebel sst  16.0         8  ...  3.19    3.40                10\n",
              "4                ford torino  17.0         8  ...  3.19    3.40                 8\n",
              "\n",
              "[5 rows x 12 columns]"
            ]
          },
          "metadata": {
            "tags": []
          },
          "execution_count": 4
        }
      ]
    },
    {
      "cell_type": "code",
      "metadata": {
        "id": "xQUa_r39i6pR",
        "colab_type": "code",
        "colab": {
          "base_uri": "https://localhost:8080/",
          "height": 34
        },
        "outputId": "542de92d-084d-4789-ba19-9a618a81de4c"
      },
      "source": [
        "automobile_df.shape"
      ],
      "execution_count": 5,
      "outputs": [
        {
          "output_type": "execute_result",
          "data": {
            "text/plain": [
              "(394, 12)"
            ]
          },
          "metadata": {
            "tags": []
          },
          "execution_count": 5
        }
      ]
    },
    {
      "cell_type": "code",
      "metadata": {
        "id": "31Bu839Ei7_x",
        "colab_type": "code",
        "colab": {
          "base_uri": "https://localhost:8080/",
          "height": 297
        },
        "outputId": "c2165ed4-2a55-4a98-aff9-59ae64e67044"
      },
      "source": [
        "automobile_df.describe()"
      ],
      "execution_count": 6,
      "outputs": [
        {
          "output_type": "execute_result",
          "data": {
            "text/html": [
              "<div>\n",
              "<style scoped>\n",
              "    .dataframe tbody tr th:only-of-type {\n",
              "        vertical-align: middle;\n",
              "    }\n",
              "\n",
              "    .dataframe tbody tr th {\n",
              "        vertical-align: top;\n",
              "    }\n",
              "\n",
              "    .dataframe thead th {\n",
              "        text-align: right;\n",
              "    }\n",
              "</style>\n",
              "<table border=\"1\" class=\"dataframe\">\n",
              "  <thead>\n",
              "    <tr style=\"text-align: right;\">\n",
              "      <th></th>\n",
              "      <th>MPG</th>\n",
              "      <th>Horsepower</th>\n",
              "      <th>bore</th>\n",
              "      <th>stroke</th>\n",
              "    </tr>\n",
              "  </thead>\n",
              "  <tbody>\n",
              "    <tr>\n",
              "      <th>count</th>\n",
              "      <td>385.000000</td>\n",
              "      <td>394.000000</td>\n",
              "      <td>394.000000</td>\n",
              "      <td>394.000000</td>\n",
              "    </tr>\n",
              "    <tr>\n",
              "      <th>mean</th>\n",
              "      <td>23.551429</td>\n",
              "      <td>104.337563</td>\n",
              "      <td>3.305025</td>\n",
              "      <td>3.289289</td>\n",
              "    </tr>\n",
              "    <tr>\n",
              "      <th>std</th>\n",
              "      <td>7.821598</td>\n",
              "      <td>38.449600</td>\n",
              "      <td>0.270336</td>\n",
              "      <td>0.271165</td>\n",
              "    </tr>\n",
              "    <tr>\n",
              "      <th>min</th>\n",
              "      <td>9.000000</td>\n",
              "      <td>46.000000</td>\n",
              "      <td>2.540000</td>\n",
              "      <td>2.070000</td>\n",
              "    </tr>\n",
              "    <tr>\n",
              "      <th>25%</th>\n",
              "      <td>17.500000</td>\n",
              "      <td>75.000000</td>\n",
              "      <td>3.080000</td>\n",
              "      <td>3.150000</td>\n",
              "    </tr>\n",
              "    <tr>\n",
              "      <th>50%</th>\n",
              "      <td>23.000000</td>\n",
              "      <td>92.500000</td>\n",
              "      <td>3.270000</td>\n",
              "      <td>3.350000</td>\n",
              "    </tr>\n",
              "    <tr>\n",
              "      <th>75%</th>\n",
              "      <td>29.000000</td>\n",
              "      <td>125.000000</td>\n",
              "      <td>3.580000</td>\n",
              "      <td>3.400000</td>\n",
              "    </tr>\n",
              "    <tr>\n",
              "      <th>max</th>\n",
              "      <td>46.600000</td>\n",
              "      <td>230.000000</td>\n",
              "      <td>3.940000</td>\n",
              "      <td>4.170000</td>\n",
              "    </tr>\n",
              "  </tbody>\n",
              "</table>\n",
              "</div>"
            ],
            "text/plain": [
              "              MPG  Horsepower        bore      stroke\n",
              "count  385.000000  394.000000  394.000000  394.000000\n",
              "mean    23.551429  104.337563    3.305025    3.289289\n",
              "std      7.821598   38.449600    0.270336    0.271165\n",
              "min      9.000000   46.000000    2.540000    2.070000\n",
              "25%     17.500000   75.000000    3.080000    3.150000\n",
              "50%     23.000000   92.500000    3.270000    3.350000\n",
              "75%     29.000000  125.000000    3.580000    3.400000\n",
              "max     46.600000  230.000000    3.940000    4.170000"
            ]
          },
          "metadata": {
            "tags": []
          },
          "execution_count": 6
        }
      ]
    },
    {
      "cell_type": "code",
      "metadata": {
        "id": "JmtuKWmjjCuU",
        "colab_type": "code",
        "colab": {
          "base_uri": "https://localhost:8080/",
          "height": 204
        },
        "outputId": "b276ab05-5dc0-43a4-9832-186dd137eac4"
      },
      "source": [
        "# Replacing '?' with nan values.\n",
        "# As pandas has number of useful function that work with data type 'nan'. \n",
        "automobile_df = automobile_df.replace('?', np.nan)\n",
        "automobile_df.head(5)"
      ],
      "execution_count": 7,
      "outputs": [
        {
          "output_type": "execute_result",
          "data": {
            "text/html": [
              "<div>\n",
              "<style scoped>\n",
              "    .dataframe tbody tr th:only-of-type {\n",
              "        vertical-align: middle;\n",
              "    }\n",
              "\n",
              "    .dataframe tbody tr th {\n",
              "        vertical-align: top;\n",
              "    }\n",
              "\n",
              "    .dataframe thead th {\n",
              "        text-align: right;\n",
              "    }\n",
              "</style>\n",
              "<table border=\"1\" class=\"dataframe\">\n",
              "  <thead>\n",
              "    <tr style=\"text-align: right;\">\n",
              "      <th></th>\n",
              "      <th>Model</th>\n",
              "      <th>MPG</th>\n",
              "      <th>Cylinders</th>\n",
              "      <th>Displacement</th>\n",
              "      <th>Horsepower</th>\n",
              "      <th>Weight</th>\n",
              "      <th>Acceleration</th>\n",
              "      <th>Year</th>\n",
              "      <th>Origin</th>\n",
              "      <th>bore</th>\n",
              "      <th>stroke</th>\n",
              "      <th>compression-ratio</th>\n",
              "    </tr>\n",
              "  </thead>\n",
              "  <tbody>\n",
              "    <tr>\n",
              "      <th>0</th>\n",
              "      <td>chevrolet chevelle malibu</td>\n",
              "      <td>18.0</td>\n",
              "      <td>8</td>\n",
              "      <td>307</td>\n",
              "      <td>130</td>\n",
              "      <td>3504</td>\n",
              "      <td>12</td>\n",
              "      <td>1970[1975]</td>\n",
              "      <td>US; Detroit, Michigan</td>\n",
              "      <td>3.47</td>\n",
              "      <td>2.68</td>\n",
              "      <td>9</td>\n",
              "    </tr>\n",
              "    <tr>\n",
              "      <th>1</th>\n",
              "      <td>buick skylark 320</td>\n",
              "      <td>15.0</td>\n",
              "      <td>8</td>\n",
              "      <td>350</td>\n",
              "      <td>165</td>\n",
              "      <td>3693</td>\n",
              "      <td>11.5</td>\n",
              "      <td>1970</td>\n",
              "      <td>US]</td>\n",
              "      <td>3.47</td>\n",
              "      <td>2.68</td>\n",
              "      <td>NaN</td>\n",
              "    </tr>\n",
              "    <tr>\n",
              "      <th>2</th>\n",
              "      <td>plymouth satellite</td>\n",
              "      <td>18.0</td>\n",
              "      <td>NaN</td>\n",
              "      <td>318</td>\n",
              "      <td>150</td>\n",
              "      <td>3436</td>\n",
              "      <td>11</td>\n",
              "      <td>1970, 1976</td>\n",
              "      <td>US</td>\n",
              "      <td>2.68</td>\n",
              "      <td>3.47</td>\n",
              "      <td>9</td>\n",
              "    </tr>\n",
              "    <tr>\n",
              "      <th>3</th>\n",
              "      <td>amc rebel sst</td>\n",
              "      <td>16.0</td>\n",
              "      <td>8</td>\n",
              "      <td>304</td>\n",
              "      <td>150</td>\n",
              "      <td>3433</td>\n",
              "      <td>12</td>\n",
              "      <td>1970</td>\n",
              "      <td>US</td>\n",
              "      <td>3.19</td>\n",
              "      <td>3.40</td>\n",
              "      <td>10</td>\n",
              "    </tr>\n",
              "    <tr>\n",
              "      <th>4</th>\n",
              "      <td>ford torino</td>\n",
              "      <td>17.0</td>\n",
              "      <td>8</td>\n",
              "      <td>302</td>\n",
              "      <td>140</td>\n",
              "      <td>3449</td>\n",
              "      <td>10.5</td>\n",
              "      <td>1970-1972</td>\n",
              "      <td>US]</td>\n",
              "      <td>3.19</td>\n",
              "      <td>3.40</td>\n",
              "      <td>8</td>\n",
              "    </tr>\n",
              "  </tbody>\n",
              "</table>\n",
              "</div>"
            ],
            "text/plain": [
              "                       Model   MPG Cylinders  ...  bore  stroke compression-ratio\n",
              "0  chevrolet chevelle malibu  18.0         8  ...  3.47    2.68                 9\n",
              "1          buick skylark 320  15.0         8  ...  3.47    2.68               NaN\n",
              "2         plymouth satellite  18.0       NaN  ...  2.68    3.47                 9\n",
              "3              amc rebel sst  16.0         8  ...  3.19    3.40                10\n",
              "4                ford torino  17.0         8  ...  3.19    3.40                 8\n",
              "\n",
              "[5 rows x 12 columns]"
            ]
          },
          "metadata": {
            "tags": []
          },
          "execution_count": 7
        }
      ]
    },
    {
      "cell_type": "code",
      "metadata": {
        "id": "GzNMvVifjlpr",
        "colab_type": "code",
        "colab": {
          "base_uri": "https://localhost:8080/",
          "height": 238
        },
        "outputId": "3f86dc06-b878-49e9-930e-2edb04096922"
      },
      "source": [
        "# To check missing values\n",
        "automobile_df.isna().sum()"
      ],
      "execution_count": 8,
      "outputs": [
        {
          "output_type": "execute_result",
          "data": {
            "text/plain": [
              "Model                0\n",
              "MPG                  9\n",
              "Cylinders            2\n",
              "Displacement         1\n",
              "Horsepower           0\n",
              "Weight               1\n",
              "Acceleration         1\n",
              "Year                 0\n",
              "Origin               0\n",
              "bore                 0\n",
              "stroke               0\n",
              "compression-ratio    2\n",
              "dtype: int64"
            ]
          },
          "metadata": {
            "tags": []
          },
          "execution_count": 8
        }
      ]
    },
    {
      "cell_type": "code",
      "metadata": {
        "id": "yAeubHnVjyoY",
        "colab_type": "code",
        "colab": {
          "base_uri": "https://localhost:8080/",
          "height": 204
        },
        "outputId": "9cca348b-11e7-48ad-ec93-dc65ca5a445a"
      },
      "source": [
        "# Filling all missing values in the column 'MPG' with the Mean of the column 'MPG'.\n",
        "automobile_df['MPG'] = automobile_df['MPG'].fillna(automobile_df['MPG'].mean())\n",
        "automobile_df.head(5)"
      ],
      "execution_count": 9,
      "outputs": [
        {
          "output_type": "execute_result",
          "data": {
            "text/html": [
              "<div>\n",
              "<style scoped>\n",
              "    .dataframe tbody tr th:only-of-type {\n",
              "        vertical-align: middle;\n",
              "    }\n",
              "\n",
              "    .dataframe tbody tr th {\n",
              "        vertical-align: top;\n",
              "    }\n",
              "\n",
              "    .dataframe thead th {\n",
              "        text-align: right;\n",
              "    }\n",
              "</style>\n",
              "<table border=\"1\" class=\"dataframe\">\n",
              "  <thead>\n",
              "    <tr style=\"text-align: right;\">\n",
              "      <th></th>\n",
              "      <th>Model</th>\n",
              "      <th>MPG</th>\n",
              "      <th>Cylinders</th>\n",
              "      <th>Displacement</th>\n",
              "      <th>Horsepower</th>\n",
              "      <th>Weight</th>\n",
              "      <th>Acceleration</th>\n",
              "      <th>Year</th>\n",
              "      <th>Origin</th>\n",
              "      <th>bore</th>\n",
              "      <th>stroke</th>\n",
              "      <th>compression-ratio</th>\n",
              "    </tr>\n",
              "  </thead>\n",
              "  <tbody>\n",
              "    <tr>\n",
              "      <th>0</th>\n",
              "      <td>chevrolet chevelle malibu</td>\n",
              "      <td>18.0</td>\n",
              "      <td>8</td>\n",
              "      <td>307</td>\n",
              "      <td>130</td>\n",
              "      <td>3504</td>\n",
              "      <td>12</td>\n",
              "      <td>1970[1975]</td>\n",
              "      <td>US; Detroit, Michigan</td>\n",
              "      <td>3.47</td>\n",
              "      <td>2.68</td>\n",
              "      <td>9</td>\n",
              "    </tr>\n",
              "    <tr>\n",
              "      <th>1</th>\n",
              "      <td>buick skylark 320</td>\n",
              "      <td>15.0</td>\n",
              "      <td>8</td>\n",
              "      <td>350</td>\n",
              "      <td>165</td>\n",
              "      <td>3693</td>\n",
              "      <td>11.5</td>\n",
              "      <td>1970</td>\n",
              "      <td>US]</td>\n",
              "      <td>3.47</td>\n",
              "      <td>2.68</td>\n",
              "      <td>NaN</td>\n",
              "    </tr>\n",
              "    <tr>\n",
              "      <th>2</th>\n",
              "      <td>plymouth satellite</td>\n",
              "      <td>18.0</td>\n",
              "      <td>NaN</td>\n",
              "      <td>318</td>\n",
              "      <td>150</td>\n",
              "      <td>3436</td>\n",
              "      <td>11</td>\n",
              "      <td>1970, 1976</td>\n",
              "      <td>US</td>\n",
              "      <td>2.68</td>\n",
              "      <td>3.47</td>\n",
              "      <td>9</td>\n",
              "    </tr>\n",
              "    <tr>\n",
              "      <th>3</th>\n",
              "      <td>amc rebel sst</td>\n",
              "      <td>16.0</td>\n",
              "      <td>8</td>\n",
              "      <td>304</td>\n",
              "      <td>150</td>\n",
              "      <td>3433</td>\n",
              "      <td>12</td>\n",
              "      <td>1970</td>\n",
              "      <td>US</td>\n",
              "      <td>3.19</td>\n",
              "      <td>3.40</td>\n",
              "      <td>10</td>\n",
              "    </tr>\n",
              "    <tr>\n",
              "      <th>4</th>\n",
              "      <td>ford torino</td>\n",
              "      <td>17.0</td>\n",
              "      <td>8</td>\n",
              "      <td>302</td>\n",
              "      <td>140</td>\n",
              "      <td>3449</td>\n",
              "      <td>10.5</td>\n",
              "      <td>1970-1972</td>\n",
              "      <td>US]</td>\n",
              "      <td>3.19</td>\n",
              "      <td>3.40</td>\n",
              "      <td>8</td>\n",
              "    </tr>\n",
              "  </tbody>\n",
              "</table>\n",
              "</div>"
            ],
            "text/plain": [
              "                       Model   MPG Cylinders  ...  bore  stroke compression-ratio\n",
              "0  chevrolet chevelle malibu  18.0         8  ...  3.47    2.68                 9\n",
              "1          buick skylark 320  15.0         8  ...  3.47    2.68               NaN\n",
              "2         plymouth satellite  18.0       NaN  ...  2.68    3.47                 9\n",
              "3              amc rebel sst  16.0         8  ...  3.19    3.40                10\n",
              "4                ford torino  17.0         8  ...  3.19    3.40                 8\n",
              "\n",
              "[5 rows x 12 columns]"
            ]
          },
          "metadata": {
            "tags": []
          },
          "execution_count": 9
        }
      ]
    },
    {
      "cell_type": "code",
      "metadata": {
        "id": "sge1MeolkWpu",
        "colab_type": "code",
        "colab": {
          "base_uri": "https://localhost:8080/",
          "height": 238
        },
        "outputId": "16f064a3-f18e-40bc-f416-4de686f524fd"
      },
      "source": [
        "automobile_df.isna().sum()"
      ],
      "execution_count": 10,
      "outputs": [
        {
          "output_type": "execute_result",
          "data": {
            "text/plain": [
              "Model                0\n",
              "MPG                  0\n",
              "Cylinders            2\n",
              "Displacement         1\n",
              "Horsepower           0\n",
              "Weight               1\n",
              "Acceleration         1\n",
              "Year                 0\n",
              "Origin               0\n",
              "bore                 0\n",
              "stroke               0\n",
              "compression-ratio    2\n",
              "dtype: int64"
            ]
          },
          "metadata": {
            "tags": []
          },
          "execution_count": 10
        }
      ]
    },
    {
      "cell_type": "code",
      "metadata": {
        "id": "YnOD4vV4kYrV",
        "colab_type": "code",
        "colab": {}
      },
      "source": [
        "# Dropping records with fields missing\n",
        "# If there are few records with missing values\n",
        "# Valid only if you have sufficient data for you analysis\n",
        "automobile_df = automobile_df.dropna()"
      ],
      "execution_count": 0,
      "outputs": []
    },
    {
      "cell_type": "code",
      "metadata": {
        "id": "MKaInsRak2h5",
        "colab_type": "code",
        "colab": {
          "base_uri": "https://localhost:8080/",
          "height": 34
        },
        "outputId": "43c23268-5e49-43ae-c5de-7229622e06d2"
      },
      "source": [
        "automobile_df.shape"
      ],
      "execution_count": 12,
      "outputs": [
        {
          "output_type": "execute_result",
          "data": {
            "text/plain": [
              "(387, 12)"
            ]
          },
          "metadata": {
            "tags": []
          },
          "execution_count": 12
        }
      ]
    },
    {
      "cell_type": "code",
      "metadata": {
        "id": "WoVHJbKelHUG",
        "colab_type": "code",
        "colab": {}
      },
      "source": [
        "# Dropping a particular column (if column is not needed)\n",
        "automobile_df.drop('Model', inplace = True, axis = 1)"
      ],
      "execution_count": 0,
      "outputs": []
    },
    {
      "cell_type": "code",
      "metadata": {
        "id": "DMUa1cfIlZBo",
        "colab_type": "code",
        "colab": {
          "base_uri": "https://localhost:8080/",
          "height": 34
        },
        "outputId": "09fb693c-7a0f-49fa-d5d1-1e358ce1bd71"
      },
      "source": [
        "automobile_df.shape"
      ],
      "execution_count": 14,
      "outputs": [
        {
          "output_type": "execute_result",
          "data": {
            "text/plain": [
              "(387, 11)"
            ]
          },
          "metadata": {
            "tags": []
          },
          "execution_count": 14
        }
      ]
    },
    {
      "cell_type": "code",
      "metadata": {
        "id": "Mr-bKm7ylcIC",
        "colab_type": "code",
        "colab": {
          "base_uri": "https://localhost:8080/",
          "height": 204
        },
        "outputId": "ff6b141b-2091-4c4f-f257-d69580b729ff"
      },
      "source": [
        "automobile_df.sample(5)"
      ],
      "execution_count": 15,
      "outputs": [
        {
          "output_type": "execute_result",
          "data": {
            "text/html": [
              "<div>\n",
              "<style scoped>\n",
              "    .dataframe tbody tr th:only-of-type {\n",
              "        vertical-align: middle;\n",
              "    }\n",
              "\n",
              "    .dataframe tbody tr th {\n",
              "        vertical-align: top;\n",
              "    }\n",
              "\n",
              "    .dataframe thead th {\n",
              "        text-align: right;\n",
              "    }\n",
              "</style>\n",
              "<table border=\"1\" class=\"dataframe\">\n",
              "  <thead>\n",
              "    <tr style=\"text-align: right;\">\n",
              "      <th></th>\n",
              "      <th>MPG</th>\n",
              "      <th>Cylinders</th>\n",
              "      <th>Displacement</th>\n",
              "      <th>Horsepower</th>\n",
              "      <th>Weight</th>\n",
              "      <th>Acceleration</th>\n",
              "      <th>Year</th>\n",
              "      <th>Origin</th>\n",
              "      <th>bore</th>\n",
              "      <th>stroke</th>\n",
              "      <th>compression-ratio</th>\n",
              "    </tr>\n",
              "  </thead>\n",
              "  <tbody>\n",
              "    <tr>\n",
              "      <th>343</th>\n",
              "      <td>37.0</td>\n",
              "      <td>4</td>\n",
              "      <td>85</td>\n",
              "      <td>65</td>\n",
              "      <td>1975</td>\n",
              "      <td>19.4</td>\n",
              "      <td>1981</td>\n",
              "      <td>Japan</td>\n",
              "      <td>3.63</td>\n",
              "      <td>4.17</td>\n",
              "      <td>8.1</td>\n",
              "    </tr>\n",
              "    <tr>\n",
              "      <th>323</th>\n",
              "      <td>44.3</td>\n",
              "      <td>4</td>\n",
              "      <td>90</td>\n",
              "      <td>48</td>\n",
              "      <td>2085</td>\n",
              "      <td>21.7</td>\n",
              "      <td>1980</td>\n",
              "      <td>Europe</td>\n",
              "      <td>3.34</td>\n",
              "      <td>3.46</td>\n",
              "      <td>8.5</td>\n",
              "    </tr>\n",
              "    <tr>\n",
              "      <th>348</th>\n",
              "      <td>29.9</td>\n",
              "      <td>4</td>\n",
              "      <td>98</td>\n",
              "      <td>65</td>\n",
              "      <td>2380</td>\n",
              "      <td>20.7</td>\n",
              "      <td>1981</td>\n",
              "      <td>US</td>\n",
              "      <td>3.03</td>\n",
              "      <td>3.15</td>\n",
              "      <td>9</td>\n",
              "    </tr>\n",
              "    <tr>\n",
              "      <th>74</th>\n",
              "      <td>14.0</td>\n",
              "      <td>8</td>\n",
              "      <td>318</td>\n",
              "      <td>150</td>\n",
              "      <td>4077</td>\n",
              "      <td>14</td>\n",
              "      <td>1972</td>\n",
              "      <td>US</td>\n",
              "      <td>3.80</td>\n",
              "      <td>3.35</td>\n",
              "      <td>8</td>\n",
              "    </tr>\n",
              "    <tr>\n",
              "      <th>194</th>\n",
              "      <td>24.5</td>\n",
              "      <td>4</td>\n",
              "      <td>98</td>\n",
              "      <td>60</td>\n",
              "      <td>2164</td>\n",
              "      <td>22.1</td>\n",
              "      <td>1976</td>\n",
              "      <td>US</td>\n",
              "      <td>3.78</td>\n",
              "      <td>3.15</td>\n",
              "      <td>9.5</td>\n",
              "    </tr>\n",
              "  </tbody>\n",
              "</table>\n",
              "</div>"
            ],
            "text/plain": [
              "      MPG Cylinders Displacement  ...  bore stroke compression-ratio\n",
              "343  37.0         4           85  ...  3.63   4.17               8.1\n",
              "323  44.3         4           90  ...  3.34   3.46               8.5\n",
              "348  29.9         4           98  ...  3.03   3.15                 9\n",
              "74   14.0         8          318  ...  3.80   3.35                 8\n",
              "194  24.5         4           98  ...  3.78   3.15               9.5\n",
              "\n",
              "[5 rows x 11 columns]"
            ]
          },
          "metadata": {
            "tags": []
          },
          "execution_count": 15
        }
      ]
    },
    {
      "cell_type": "code",
      "metadata": {
        "id": "l6jD_a8oli4X",
        "colab_type": "code",
        "colab": {}
      },
      "source": [
        "# Dropping other few column\n",
        "automobile_df.drop(['bore', 'stroke', 'compression-ratio'], inplace = True, axis = 1)"
      ],
      "execution_count": 0,
      "outputs": []
    },
    {
      "cell_type": "code",
      "metadata": {
        "id": "uR0kR5BrmWsy",
        "colab_type": "code",
        "colab": {
          "base_uri": "https://localhost:8080/",
          "height": 34
        },
        "outputId": "f61f0019-ebef-48e9-eff9-c0ac13fd7569"
      },
      "source": [
        "automobile_df.shape"
      ],
      "execution_count": 17,
      "outputs": [
        {
          "output_type": "execute_result",
          "data": {
            "text/plain": [
              "(387, 8)"
            ]
          },
          "metadata": {
            "tags": []
          },
          "execution_count": 17
        }
      ]
    },
    {
      "cell_type": "code",
      "metadata": {
        "id": "zZ9n96_0lxQD",
        "colab_type": "code",
        "colab": {
          "base_uri": "https://localhost:8080/",
          "height": 204
        },
        "outputId": "e6013df3-45c9-41aa-d5e7-0c12de5d22be"
      },
      "source": [
        "automobile_df.head(5)\n",
        "\n",
        "# We will have to clean the 'Year' and 'Origin' column"
      ],
      "execution_count": 18,
      "outputs": [
        {
          "output_type": "execute_result",
          "data": {
            "text/html": [
              "<div>\n",
              "<style scoped>\n",
              "    .dataframe tbody tr th:only-of-type {\n",
              "        vertical-align: middle;\n",
              "    }\n",
              "\n",
              "    .dataframe tbody tr th {\n",
              "        vertical-align: top;\n",
              "    }\n",
              "\n",
              "    .dataframe thead th {\n",
              "        text-align: right;\n",
              "    }\n",
              "</style>\n",
              "<table border=\"1\" class=\"dataframe\">\n",
              "  <thead>\n",
              "    <tr style=\"text-align: right;\">\n",
              "      <th></th>\n",
              "      <th>MPG</th>\n",
              "      <th>Cylinders</th>\n",
              "      <th>Displacement</th>\n",
              "      <th>Horsepower</th>\n",
              "      <th>Weight</th>\n",
              "      <th>Acceleration</th>\n",
              "      <th>Year</th>\n",
              "      <th>Origin</th>\n",
              "    </tr>\n",
              "  </thead>\n",
              "  <tbody>\n",
              "    <tr>\n",
              "      <th>0</th>\n",
              "      <td>18.000000</td>\n",
              "      <td>8</td>\n",
              "      <td>307</td>\n",
              "      <td>130</td>\n",
              "      <td>3504</td>\n",
              "      <td>12</td>\n",
              "      <td>1970[1975]</td>\n",
              "      <td>US; Detroit, Michigan</td>\n",
              "    </tr>\n",
              "    <tr>\n",
              "      <th>3</th>\n",
              "      <td>16.000000</td>\n",
              "      <td>8</td>\n",
              "      <td>304</td>\n",
              "      <td>150</td>\n",
              "      <td>3433</td>\n",
              "      <td>12</td>\n",
              "      <td>1970</td>\n",
              "      <td>US</td>\n",
              "    </tr>\n",
              "    <tr>\n",
              "      <th>4</th>\n",
              "      <td>17.000000</td>\n",
              "      <td>8</td>\n",
              "      <td>302</td>\n",
              "      <td>140</td>\n",
              "      <td>3449</td>\n",
              "      <td>10.5</td>\n",
              "      <td>1970-1972</td>\n",
              "      <td>US]</td>\n",
              "    </tr>\n",
              "    <tr>\n",
              "      <th>6</th>\n",
              "      <td>14.000000</td>\n",
              "      <td>8</td>\n",
              "      <td>454</td>\n",
              "      <td>220</td>\n",
              "      <td>4354</td>\n",
              "      <td>9</td>\n",
              "      <td>1970[1975]</td>\n",
              "      <td>US; Detroit, Michigan</td>\n",
              "    </tr>\n",
              "    <tr>\n",
              "      <th>7</th>\n",
              "      <td>23.551429</td>\n",
              "      <td>8</td>\n",
              "      <td>440</td>\n",
              "      <td>215</td>\n",
              "      <td>4312</td>\n",
              "      <td>8.5</td>\n",
              "      <td>1970</td>\n",
              "      <td>US</td>\n",
              "    </tr>\n",
              "  </tbody>\n",
              "</table>\n",
              "</div>"
            ],
            "text/plain": [
              "         MPG Cylinders  ...        Year                 Origin\n",
              "0  18.000000         8  ...  1970[1975]  US; Detroit, Michigan\n",
              "3  16.000000         8  ...        1970                     US\n",
              "4  17.000000         8  ...   1970-1972                    US]\n",
              "6  14.000000         8  ...  1970[1975]  US; Detroit, Michigan\n",
              "7  23.551429         8  ...        1970                     US\n",
              "\n",
              "[5 rows x 8 columns]"
            ]
          },
          "metadata": {
            "tags": []
          },
          "execution_count": 18
        }
      ]
    },
    {
      "cell_type": "code",
      "metadata": {
        "id": "FgPa4AR6mm4B",
        "colab_type": "code",
        "colab": {
          "base_uri": "https://localhost:8080/",
          "height": 68
        },
        "outputId": "440a343f-f3ab-43ef-bfe9-115758134e21"
      },
      "source": [
        "# To check how many values in the column 'Year' is numeric or non numeric\n",
        "automobile_df['Year'].str.isnumeric().value_counts()\n",
        "\n",
        "# We have 351 numeric values and 36 non numeric values.\n",
        "# Useful information to clear the 'Year' Column."
      ],
      "execution_count": 19,
      "outputs": [
        {
          "output_type": "execute_result",
          "data": {
            "text/plain": [
              "True     351\n",
              "False     36\n",
              "Name: Year, dtype: int64"
            ]
          },
          "metadata": {
            "tags": []
          },
          "execution_count": 19
        }
      ]
    },
    {
      "cell_type": "code",
      "metadata": {
        "id": "7nvRlt-EvuMQ",
        "colab_type": "code",
        "colab": {
          "base_uri": "https://localhost:8080/",
          "height": 646
        },
        "outputId": "dfe36de5-17b5-4429-f635-287b6617b849"
      },
      "source": [
        "# To see all the non numeric value in the column 'Year'\n",
        "automobile_df['Year'].loc[automobile_df['Year'].str.isnumeric() == False]\n",
        "\n",
        "# We can see the data type is object"
      ],
      "execution_count": 20,
      "outputs": [
        {
          "output_type": "execute_result",
          "data": {
            "text/plain": [
              "0          1970[1975]\n",
              "4           1970-1972\n",
              "6          1970[1975]\n",
              "30      1971[1973]971\n",
              "35         1971[1973]\n",
              "40         1971[1973]\n",
              "44         1971[1973]\n",
              "49         1971[1973]\n",
              "56         1972[1973]\n",
              "61         1972[1973]\n",
              "65         1972[1973]\n",
              "68         1972[1973]\n",
              "73         1972[1973]\n",
              "75            1972-73\n",
              "79            1972-73\n",
              "82            1972-73\n",
              "96          1973-1974\n",
              "97         1973, 1974\n",
              "102    1973, 19741973\n",
              "105        1973, 1974\n",
              "108        1973, 1974\n",
              "112        1973, 1974\n",
              "115        1973, 1974\n",
              "126        1974, 1975\n",
              "131        1974, 1975\n",
              "134        1974, 1975\n",
              "137        1974, 1975\n",
              "139    1974, 19751974\n",
              "142        1974, 1975\n",
              "365         1982-1985\n",
              "374         1982-1985\n",
              "380         1982-1985\n",
              "383         1982-1985\n",
              "387         1982-1985\n",
              "389         1982-1985\n",
              "391         1982-1985\n",
              "Name: Year, dtype: object"
            ]
          },
          "metadata": {
            "tags": []
          },
          "execution_count": 20
        }
      ]
    },
    {
      "cell_type": "code",
      "metadata": {
        "id": "_t33Ea62wQ3o",
        "colab_type": "code",
        "colab": {
          "base_uri": "https://localhost:8080/",
          "height": 119
        },
        "outputId": "27c83d83-a01f-4500-9d6a-7b52b2e4cd87"
      },
      "source": [
        "# We can extract only the first 4 characters to get the 'Year' information\n",
        "# We can do it using regular expression\n",
        "Year_extract = automobile_df['Year'].str.extract(r'^(\\d{4})', expand = False)\n",
        "Year_extract.head()"
      ],
      "execution_count": 21,
      "outputs": [
        {
          "output_type": "execute_result",
          "data": {
            "text/plain": [
              "0    1970\n",
              "3    1970\n",
              "4    1970\n",
              "6    1970\n",
              "7    1970\n",
              "Name: Year, dtype: object"
            ]
          },
          "metadata": {
            "tags": []
          },
          "execution_count": 21
        }
      ]
    },
    {
      "cell_type": "code",
      "metadata": {
        "id": "pGDF0lKzxThH",
        "colab_type": "code",
        "colab": {
          "base_uri": "https://localhost:8080/",
          "height": 34
        },
        "outputId": "24fc569c-f817-4739-b440-3d13f4df0ca7"
      },
      "source": [
        "# To check missing values in 'Year' column\n",
        "automobile_df['Year'].isnull().sum()"
      ],
      "execution_count": 22,
      "outputs": [
        {
          "output_type": "execute_result",
          "data": {
            "text/plain": [
              "0"
            ]
          },
          "metadata": {
            "tags": []
          },
          "execution_count": 22
        }
      ]
    },
    {
      "cell_type": "code",
      "metadata": {
        "id": "tCfy_Pq6xhf6",
        "colab_type": "code",
        "colab": {
          "base_uri": "https://localhost:8080/",
          "height": 419
        },
        "outputId": "20a262a4-456e-4693-dffd-e3cebbc13c53"
      },
      "source": [
        "#automobile_df['Year'] = Year_extract\n",
        "# Or use to_numeric to convert the dtype to numeric\n",
        "automobile_df['Year'] = pd.to_numeric(Year_extract)\n",
        "automobile_df\n",
        "# Now the column 'Year' is cleaned"
      ],
      "execution_count": 23,
      "outputs": [
        {
          "output_type": "execute_result",
          "data": {
            "text/html": [
              "<div>\n",
              "<style scoped>\n",
              "    .dataframe tbody tr th:only-of-type {\n",
              "        vertical-align: middle;\n",
              "    }\n",
              "\n",
              "    .dataframe tbody tr th {\n",
              "        vertical-align: top;\n",
              "    }\n",
              "\n",
              "    .dataframe thead th {\n",
              "        text-align: right;\n",
              "    }\n",
              "</style>\n",
              "<table border=\"1\" class=\"dataframe\">\n",
              "  <thead>\n",
              "    <tr style=\"text-align: right;\">\n",
              "      <th></th>\n",
              "      <th>MPG</th>\n",
              "      <th>Cylinders</th>\n",
              "      <th>Displacement</th>\n",
              "      <th>Horsepower</th>\n",
              "      <th>Weight</th>\n",
              "      <th>Acceleration</th>\n",
              "      <th>Year</th>\n",
              "      <th>Origin</th>\n",
              "    </tr>\n",
              "  </thead>\n",
              "  <tbody>\n",
              "    <tr>\n",
              "      <th>0</th>\n",
              "      <td>18.000000</td>\n",
              "      <td>8</td>\n",
              "      <td>307</td>\n",
              "      <td>130</td>\n",
              "      <td>3504</td>\n",
              "      <td>12</td>\n",
              "      <td>1970</td>\n",
              "      <td>US; Detroit, Michigan</td>\n",
              "    </tr>\n",
              "    <tr>\n",
              "      <th>3</th>\n",
              "      <td>16.000000</td>\n",
              "      <td>8</td>\n",
              "      <td>304</td>\n",
              "      <td>150</td>\n",
              "      <td>3433</td>\n",
              "      <td>12</td>\n",
              "      <td>1970</td>\n",
              "      <td>US</td>\n",
              "    </tr>\n",
              "    <tr>\n",
              "      <th>4</th>\n",
              "      <td>17.000000</td>\n",
              "      <td>8</td>\n",
              "      <td>302</td>\n",
              "      <td>140</td>\n",
              "      <td>3449</td>\n",
              "      <td>10.5</td>\n",
              "      <td>1970</td>\n",
              "      <td>US]</td>\n",
              "    </tr>\n",
              "    <tr>\n",
              "      <th>6</th>\n",
              "      <td>14.000000</td>\n",
              "      <td>8</td>\n",
              "      <td>454</td>\n",
              "      <td>220</td>\n",
              "      <td>4354</td>\n",
              "      <td>9</td>\n",
              "      <td>1970</td>\n",
              "      <td>US; Detroit, Michigan</td>\n",
              "    </tr>\n",
              "    <tr>\n",
              "      <th>7</th>\n",
              "      <td>23.551429</td>\n",
              "      <td>8</td>\n",
              "      <td>440</td>\n",
              "      <td>215</td>\n",
              "      <td>4312</td>\n",
              "      <td>8.5</td>\n",
              "      <td>1970</td>\n",
              "      <td>US</td>\n",
              "    </tr>\n",
              "    <tr>\n",
              "      <th>...</th>\n",
              "      <td>...</td>\n",
              "      <td>...</td>\n",
              "      <td>...</td>\n",
              "      <td>...</td>\n",
              "      <td>...</td>\n",
              "      <td>...</td>\n",
              "      <td>...</td>\n",
              "      <td>...</td>\n",
              "    </tr>\n",
              "    <tr>\n",
              "      <th>389</th>\n",
              "      <td>27.000000</td>\n",
              "      <td>4</td>\n",
              "      <td>140</td>\n",
              "      <td>86</td>\n",
              "      <td>2790</td>\n",
              "      <td>15.6</td>\n",
              "      <td>1982</td>\n",
              "      <td>US</td>\n",
              "    </tr>\n",
              "    <tr>\n",
              "      <th>390</th>\n",
              "      <td>44.000000</td>\n",
              "      <td>4</td>\n",
              "      <td>97</td>\n",
              "      <td>52</td>\n",
              "      <td>2130</td>\n",
              "      <td>24.6</td>\n",
              "      <td>1982</td>\n",
              "      <td>Europe</td>\n",
              "    </tr>\n",
              "    <tr>\n",
              "      <th>391</th>\n",
              "      <td>32.000000</td>\n",
              "      <td>4</td>\n",
              "      <td>135</td>\n",
              "      <td>84</td>\n",
              "      <td>2295</td>\n",
              "      <td>11.6</td>\n",
              "      <td>1982</td>\n",
              "      <td>US</td>\n",
              "    </tr>\n",
              "    <tr>\n",
              "      <th>392</th>\n",
              "      <td>28.000000</td>\n",
              "      <td>4</td>\n",
              "      <td>120</td>\n",
              "      <td>79</td>\n",
              "      <td>2625</td>\n",
              "      <td>18.6</td>\n",
              "      <td>1982</td>\n",
              "      <td>US</td>\n",
              "    </tr>\n",
              "    <tr>\n",
              "      <th>393</th>\n",
              "      <td>31.000000</td>\n",
              "      <td>4</td>\n",
              "      <td>119</td>\n",
              "      <td>82</td>\n",
              "      <td>2720</td>\n",
              "      <td>19.4</td>\n",
              "      <td>1982</td>\n",
              "      <td>US</td>\n",
              "    </tr>\n",
              "  </tbody>\n",
              "</table>\n",
              "<p>387 rows × 8 columns</p>\n",
              "</div>"
            ],
            "text/plain": [
              "           MPG Cylinders Displacement  ...  Acceleration  Year                 Origin\n",
              "0    18.000000         8          307  ...            12  1970  US; Detroit, Michigan\n",
              "3    16.000000         8          304  ...            12  1970                     US\n",
              "4    17.000000         8          302  ...          10.5  1970                    US]\n",
              "6    14.000000         8          454  ...             9  1970  US; Detroit, Michigan\n",
              "7    23.551429         8          440  ...           8.5  1970                     US\n",
              "..         ...       ...          ...  ...           ...   ...                    ...\n",
              "389  27.000000         4          140  ...          15.6  1982                     US\n",
              "390  44.000000         4           97  ...          24.6  1982                 Europe\n",
              "391  32.000000         4          135  ...          11.6  1982                     US\n",
              "392  28.000000         4          120  ...          18.6  1982                     US\n",
              "393  31.000000         4          119  ...          19.4  1982                     US\n",
              "\n",
              "[387 rows x 8 columns]"
            ]
          },
          "metadata": {
            "tags": []
          },
          "execution_count": 23
        }
      ]
    },
    {
      "cell_type": "code",
      "metadata": {
        "id": "rWipM9PUxyWG",
        "colab_type": "code",
        "colab": {
          "base_uri": "https://localhost:8080/",
          "height": 34
        },
        "outputId": "d6dbceec-6a4b-419b-8af5-5271e04c3471"
      },
      "source": [
        "automobile_df['Year'].dtype"
      ],
      "execution_count": 24,
      "outputs": [
        {
          "output_type": "execute_result",
          "data": {
            "text/plain": [
              "dtype('int64')"
            ]
          },
          "metadata": {
            "tags": []
          },
          "execution_count": 24
        }
      ]
    },
    {
      "cell_type": "code",
      "metadata": {
        "id": "8a6w5gSxzSBf",
        "colab_type": "code",
        "colab": {
          "base_uri": "https://localhost:8080/",
          "height": 204
        },
        "outputId": "2ed152c5-c20c-49d5-89a5-6ee67a8ebb6a"
      },
      "source": [
        "# We can add a new feature called 'Age' of the car as age of the car may effect the mileage of the car.\n",
        "# Age = Current year - Value in Year column\n",
        "automobile_df['Age'] = int(datetime.datetime.now().year) - automobile_df['Year']\n",
        "automobile_df['Age'].head(10)"
      ],
      "execution_count": 25,
      "outputs": [
        {
          "output_type": "execute_result",
          "data": {
            "text/plain": [
              "0     50\n",
              "3     50\n",
              "4     50\n",
              "6     50\n",
              "7     50\n",
              "8     50\n",
              "9     50\n",
              "10    50\n",
              "11    50\n",
              "12    50\n",
              "Name: Age, dtype: int64"
            ]
          },
          "metadata": {
            "tags": []
          },
          "execution_count": 25
        }
      ]
    },
    {
      "cell_type": "code",
      "metadata": {
        "id": "CMIVuxe20EBG",
        "colab_type": "code",
        "colab": {
          "base_uri": "https://localhost:8080/",
          "height": 204
        },
        "outputId": "debb3a55-6dec-4914-e7d5-f97edd20ea8d"
      },
      "source": [
        "automobile_df['Age'].sample(10)"
      ],
      "execution_count": 26,
      "outputs": [
        {
          "output_type": "execute_result",
          "data": {
            "text/plain": [
              "194    44\n",
              "289    41\n",
              "183    44\n",
              "141    46\n",
              "113    47\n",
              "237    43\n",
              "308    40\n",
              "131    46\n",
              "98     47\n",
              "160    45\n",
              "Name: Age, dtype: int64"
            ]
          },
          "metadata": {
            "tags": []
          },
          "execution_count": 26
        }
      ]
    },
    {
      "cell_type": "code",
      "metadata": {
        "id": "sGLVwG2J0KJ-",
        "colab_type": "code",
        "colab": {}
      },
      "source": [
        "# Dropping 'Year' Column\n",
        "automobile_df.drop('Year', inplace=True, axis = 1)"
      ],
      "execution_count": 0,
      "outputs": []
    },
    {
      "cell_type": "code",
      "metadata": {
        "id": "MOwMCHk30U6W",
        "colab_type": "code",
        "colab": {
          "base_uri": "https://localhost:8080/",
          "height": 359
        },
        "outputId": "41965d89-ec1d-448f-bd51-2ca92bd58986"
      },
      "source": [
        "automobile_df.sample(10)"
      ],
      "execution_count": 28,
      "outputs": [
        {
          "output_type": "execute_result",
          "data": {
            "text/html": [
              "<div>\n",
              "<style scoped>\n",
              "    .dataframe tbody tr th:only-of-type {\n",
              "        vertical-align: middle;\n",
              "    }\n",
              "\n",
              "    .dataframe tbody tr th {\n",
              "        vertical-align: top;\n",
              "    }\n",
              "\n",
              "    .dataframe thead th {\n",
              "        text-align: right;\n",
              "    }\n",
              "</style>\n",
              "<table border=\"1\" class=\"dataframe\">\n",
              "  <thead>\n",
              "    <tr style=\"text-align: right;\">\n",
              "      <th></th>\n",
              "      <th>MPG</th>\n",
              "      <th>Cylinders</th>\n",
              "      <th>Displacement</th>\n",
              "      <th>Horsepower</th>\n",
              "      <th>Weight</th>\n",
              "      <th>Acceleration</th>\n",
              "      <th>Origin</th>\n",
              "      <th>Age</th>\n",
              "    </tr>\n",
              "  </thead>\n",
              "  <tbody>\n",
              "    <tr>\n",
              "      <th>282</th>\n",
              "      <td>20.6</td>\n",
              "      <td>6</td>\n",
              "      <td>225</td>\n",
              "      <td>110</td>\n",
              "      <td>3360</td>\n",
              "      <td>16.6</td>\n",
              "      <td>US</td>\n",
              "      <td>41</td>\n",
              "    </tr>\n",
              "    <tr>\n",
              "      <th>355</th>\n",
              "      <td>28.1</td>\n",
              "      <td>4</td>\n",
              "      <td>141</td>\n",
              "      <td>80</td>\n",
              "      <td>3230</td>\n",
              "      <td>20.4</td>\n",
              "      <td>Europe</td>\n",
              "      <td>39</td>\n",
              "    </tr>\n",
              "    <tr>\n",
              "      <th>183</th>\n",
              "      <td>26.0</td>\n",
              "      <td>4</td>\n",
              "      <td>98</td>\n",
              "      <td>79</td>\n",
              "      <td>2255</td>\n",
              "      <td>17.7</td>\n",
              "      <td>US</td>\n",
              "      <td>44</td>\n",
              "    </tr>\n",
              "    <tr>\n",
              "      <th>333</th>\n",
              "      <td>32.4</td>\n",
              "      <td>4</td>\n",
              "      <td>107</td>\n",
              "      <td>72</td>\n",
              "      <td>2290</td>\n",
              "      <td>17</td>\n",
              "      <td>Japan</td>\n",
              "      <td>40</td>\n",
              "    </tr>\n",
              "    <tr>\n",
              "      <th>386</th>\n",
              "      <td>32.0</td>\n",
              "      <td>4</td>\n",
              "      <td>144</td>\n",
              "      <td>96</td>\n",
              "      <td>2665</td>\n",
              "      <td>13.9</td>\n",
              "      <td>Japan</td>\n",
              "      <td>38</td>\n",
              "    </tr>\n",
              "    <tr>\n",
              "      <th>72</th>\n",
              "      <td>13.0</td>\n",
              "      <td>8</td>\n",
              "      <td>307</td>\n",
              "      <td>130</td>\n",
              "      <td>4098</td>\n",
              "      <td>14</td>\n",
              "      <td>US</td>\n",
              "      <td>48</td>\n",
              "    </tr>\n",
              "    <tr>\n",
              "      <th>23</th>\n",
              "      <td>26.0</td>\n",
              "      <td>4</td>\n",
              "      <td>121</td>\n",
              "      <td>113</td>\n",
              "      <td>2234</td>\n",
              "      <td>12.5</td>\n",
              "      <td>Europe</td>\n",
              "      <td>50</td>\n",
              "    </tr>\n",
              "    <tr>\n",
              "      <th>257</th>\n",
              "      <td>20.8</td>\n",
              "      <td>6</td>\n",
              "      <td>200</td>\n",
              "      <td>85</td>\n",
              "      <td>3070</td>\n",
              "      <td>16.7</td>\n",
              "      <td>US</td>\n",
              "      <td>42</td>\n",
              "    </tr>\n",
              "    <tr>\n",
              "      <th>116</th>\n",
              "      <td>29.0</td>\n",
              "      <td>4</td>\n",
              "      <td>68</td>\n",
              "      <td>49</td>\n",
              "      <td>1867</td>\n",
              "      <td>19.5</td>\n",
              "      <td>Europe</td>\n",
              "      <td>47</td>\n",
              "    </tr>\n",
              "    <tr>\n",
              "      <th>368</th>\n",
              "      <td>27.0</td>\n",
              "      <td>4</td>\n",
              "      <td>151</td>\n",
              "      <td>90</td>\n",
              "      <td>2735</td>\n",
              "      <td>18</td>\n",
              "      <td>US</td>\n",
              "      <td>38</td>\n",
              "    </tr>\n",
              "  </tbody>\n",
              "</table>\n",
              "</div>"
            ],
            "text/plain": [
              "      MPG Cylinders Displacement  Horsepower Weight Acceleration  Origin  Age\n",
              "282  20.6         6          225         110   3360         16.6      US   41\n",
              "355  28.1         4          141          80   3230         20.4  Europe   39\n",
              "183  26.0         4           98          79   2255         17.7      US   44\n",
              "333  32.4         4          107          72   2290           17   Japan   40\n",
              "386  32.0         4          144          96   2665         13.9   Japan   38\n",
              "72   13.0         8          307         130   4098           14      US   48\n",
              "23   26.0         4          121         113   2234         12.5  Europe   50\n",
              "257  20.8         6          200          85   3070         16.7      US   42\n",
              "116  29.0         4           68          49   1867         19.5  Europe   47\n",
              "368  27.0         4          151          90   2735           18      US   38"
            ]
          },
          "metadata": {
            "tags": []
          },
          "execution_count": 28
        }
      ]
    },
    {
      "cell_type": "code",
      "metadata": {
        "id": "AtOsJ07j0b2X",
        "colab_type": "code",
        "colab": {
          "base_uri": "https://localhost:8080/",
          "height": 170
        },
        "outputId": "cfd02a2f-99b2-457f-ba98-5f085ca6e5fc"
      },
      "source": [
        "# To check if the data requires further cleaning, we will check the data types\n",
        "automobile_df.dtypes"
      ],
      "execution_count": 29,
      "outputs": [
        {
          "output_type": "execute_result",
          "data": {
            "text/plain": [
              "MPG             float64\n",
              "Cylinders        object\n",
              "Displacement     object\n",
              "Horsepower        int64\n",
              "Weight           object\n",
              "Acceleration     object\n",
              "Origin           object\n",
              "Age               int64\n",
              "dtype: object"
            ]
          },
          "metadata": {
            "tags": []
          },
          "execution_count": 29
        }
      ]
    },
    {
      "cell_type": "code",
      "metadata": {
        "id": "uoiS6uPN0j1x",
        "colab_type": "code",
        "colab": {
          "base_uri": "https://localhost:8080/",
          "height": 34
        },
        "outputId": "ce010c79-0b6d-4fc6-d4b8-4de267066b33"
      },
      "source": [
        "# The above columns like 'Cylinders', 'Weight' etc should have been numeric.\n",
        "# If not, then there might be some further cleaning required.\n",
        "# Lets start with the 'Cylinders' column.\n",
        "\n",
        "automobile_df['Cylinders'].isnull().sum()\n",
        "\n",
        "# We saw that there are no missing values"
      ],
      "execution_count": 30,
      "outputs": [
        {
          "output_type": "execute_result",
          "data": {
            "text/plain": [
              "0"
            ]
          },
          "metadata": {
            "tags": []
          },
          "execution_count": 30
        }
      ]
    },
    {
      "cell_type": "code",
      "metadata": {
        "id": "RIi99dqC1HdH",
        "colab_type": "code",
        "colab": {
          "base_uri": "https://localhost:8080/",
          "height": 68
        },
        "outputId": "b4245453-e5e2-41a7-bc67-63da1bec16b7"
      },
      "source": [
        "# We will now check the numeric and non numberic value in the column 'Cylinders'.\n",
        "automobile_df['Cylinders'].str.isnumeric().value_counts()"
      ],
      "execution_count": 31,
      "outputs": [
        {
          "output_type": "execute_result",
          "data": {
            "text/plain": [
              "True     378\n",
              "False      9\n",
              "Name: Cylinders, dtype: int64"
            ]
          },
          "metadata": {
            "tags": []
          },
          "execution_count": 31
        }
      ]
    },
    {
      "cell_type": "code",
      "metadata": {
        "id": "vFAfoEx_1c35",
        "colab_type": "code",
        "colab": {
          "base_uri": "https://localhost:8080/",
          "height": 187
        },
        "outputId": "befb26b5-73d3-4f7c-ee75-968f75ed8927"
      },
      "source": [
        "# To see all the non numeric value in the column 'Cylinders'\n",
        "automobile_df['Cylinders'].loc[automobile_df['Cylinders'].str.isnumeric() == False]\n",
        "\n",
        "# Another representation of missing values"
      ],
      "execution_count": 32,
      "outputs": [
        {
          "output_type": "execute_result",
          "data": {
            "text/plain": [
              "11    -\n",
              "22    -\n",
              "32    -\n",
              "42    -\n",
              "51    -\n",
              "58    -\n",
              "69    -\n",
              "82    -\n",
              "89    -\n",
              "Name: Cylinders, dtype: object"
            ]
          },
          "metadata": {
            "tags": []
          },
          "execution_count": 32
        }
      ]
    },
    {
      "cell_type": "code",
      "metadata": {
        "id": "DeOgEFyi1n2H",
        "colab_type": "code",
        "colab": {
          "base_uri": "https://localhost:8080/",
          "height": 221
        },
        "outputId": "5fd840ac-9646-4b10-eb9d-168470b7cc4f"
      },
      "source": [
        "# We will extract all the numeric values and calculate the mean of the column 'Cylinders'\n",
        "# Then we will replace the missing values / dash by the mean value\n",
        "cylinders_no_nissing_value = automobile_df['Cylinders'].loc[automobile_df['Cylinders'] != '-']\n",
        "cylinders_no_nissing_value"
      ],
      "execution_count": 33,
      "outputs": [
        {
          "output_type": "execute_result",
          "data": {
            "text/plain": [
              "0      8\n",
              "3      8\n",
              "4      8\n",
              "6      8\n",
              "7      8\n",
              "      ..\n",
              "389    4\n",
              "390    4\n",
              "391    4\n",
              "392    4\n",
              "393    4\n",
              "Name: Cylinders, Length: 378, dtype: object"
            ]
          },
          "metadata": {
            "tags": []
          },
          "execution_count": 33
        }
      ]
    },
    {
      "cell_type": "code",
      "metadata": {
        "id": "v9s8YPXS2P2x",
        "colab_type": "code",
        "colab": {
          "base_uri": "https://localhost:8080/",
          "height": 34
        },
        "outputId": "220bd240-def2-4774-8a4a-64924b117796"
      },
      "source": [
        "# Converting the values to integers and then calculating the mean.\n",
        "cylinders_mean = cylinders_no_nissing_value.astype(int).mean()\n",
        "cylinders_mean"
      ],
      "execution_count": 34,
      "outputs": [
        {
          "output_type": "execute_result",
          "data": {
            "text/plain": [
              "5.420634920634921"
            ]
          },
          "metadata": {
            "tags": []
          },
          "execution_count": 34
        }
      ]
    },
    {
      "cell_type": "code",
      "metadata": {
        "id": "uHHjJwC13AYB",
        "colab_type": "code",
        "colab": {}
      },
      "source": [
        "automobile_df['Cylinders'] = automobile_df['Cylinders'].replace('-', cylinders_mean).astype(int)"
      ],
      "execution_count": 0,
      "outputs": []
    },
    {
      "cell_type": "code",
      "metadata": {
        "id": "F_Rp5oYS3WWn",
        "colab_type": "code",
        "colab": {
          "base_uri": "https://localhost:8080/",
          "height": 170
        },
        "outputId": "b5560066-cf99-4cec-bda4-7c4cc0ed1e53"
      },
      "source": [
        "automobile_df.dtypes\n",
        "# Cylinders is not of type 'int'"
      ],
      "execution_count": 36,
      "outputs": [
        {
          "output_type": "execute_result",
          "data": {
            "text/plain": [
              "MPG             float64\n",
              "Cylinders         int64\n",
              "Displacement     object\n",
              "Horsepower        int64\n",
              "Weight           object\n",
              "Acceleration     object\n",
              "Origin           object\n",
              "Age               int64\n",
              "dtype: object"
            ]
          },
          "metadata": {
            "tags": []
          },
          "execution_count": 36
        }
      ]
    },
    {
      "cell_type": "code",
      "metadata": {
        "id": "BqYAPn5v3odQ",
        "colab_type": "code",
        "colab": {}
      },
      "source": [
        "# Now lets clean the 'Displacement' column.\n",
        "# converting it to float type.\n",
        "\n",
        "# Displacement should be a numeric field and not an object, so we will use the pd.to_numeric function in order to coerce displacement \n",
        "# to be a number. Errors is equal to coerce. We'll convert invalid numeric values to NaNs, or not a number.\n",
        "\n",
        "automobile_df['Displacement'] = pd.to_numeric(automobile_df['Displacement'], errors = 'coerce')"
      ],
      "execution_count": 0,
      "outputs": []
    },
    {
      "cell_type": "code",
      "metadata": {
        "id": "s-iEm-wf4QKb",
        "colab_type": "code",
        "colab": {
          "base_uri": "https://localhost:8080/",
          "height": 170
        },
        "outputId": "3a485a08-3d26-45cf-d49b-b096f5a2f630"
      },
      "source": [
        "automobile_df.dtypes"
      ],
      "execution_count": 38,
      "outputs": [
        {
          "output_type": "execute_result",
          "data": {
            "text/plain": [
              "MPG             float64\n",
              "Cylinders         int64\n",
              "Displacement    float64\n",
              "Horsepower        int64\n",
              "Weight           object\n",
              "Acceleration     object\n",
              "Origin           object\n",
              "Age               int64\n",
              "dtype: object"
            ]
          },
          "metadata": {
            "tags": []
          },
          "execution_count": 38
        }
      ]
    },
    {
      "cell_type": "code",
      "metadata": {
        "id": "PPuiKIMN44Cd",
        "colab_type": "code",
        "colab": {}
      },
      "source": [
        "# Converting the Weight column to numeric\n",
        "automobile_df['Weight'] = pd.to_numeric(automobile_df['Weight'], errors = 'coerce')"
      ],
      "execution_count": 0,
      "outputs": []
    },
    {
      "cell_type": "code",
      "metadata": {
        "id": "Bzkz5ZGI5A-T",
        "colab_type": "code",
        "colab": {
          "base_uri": "https://localhost:8080/",
          "height": 170
        },
        "outputId": "af05b047-3255-4627-fb45-95bafaaf5e2e"
      },
      "source": [
        "automobile_df.dtypes"
      ],
      "execution_count": 40,
      "outputs": [
        {
          "output_type": "execute_result",
          "data": {
            "text/plain": [
              "MPG             float64\n",
              "Cylinders         int64\n",
              "Displacement    float64\n",
              "Horsepower        int64\n",
              "Weight            int64\n",
              "Acceleration     object\n",
              "Origin           object\n",
              "Age               int64\n",
              "dtype: object"
            ]
          },
          "metadata": {
            "tags": []
          },
          "execution_count": 40
        }
      ]
    },
    {
      "cell_type": "code",
      "metadata": {
        "id": "CC_qvhIS5Fay",
        "colab_type": "code",
        "colab": {
          "base_uri": "https://localhost:8080/",
          "height": 170
        },
        "outputId": "6e516e7f-76bf-4bce-d601-94b32bd8813d"
      },
      "source": [
        "automobile_df['Acceleration'] = pd.to_numeric(automobile_df['Acceleration'], errors = 'coerce')\n",
        "automobile_df.dtypes"
      ],
      "execution_count": 41,
      "outputs": [
        {
          "output_type": "execute_result",
          "data": {
            "text/plain": [
              "MPG             float64\n",
              "Cylinders         int64\n",
              "Displacement    float64\n",
              "Horsepower        int64\n",
              "Weight            int64\n",
              "Acceleration    float64\n",
              "Origin           object\n",
              "Age               int64\n",
              "dtype: object"
            ]
          },
          "metadata": {
            "tags": []
          },
          "execution_count": 41
        }
      ]
    },
    {
      "cell_type": "code",
      "metadata": {
        "id": "DF6VvZB75N76",
        "colab_type": "code",
        "colab": {
          "base_uri": "https://localhost:8080/",
          "height": 204
        },
        "outputId": "a2d6fc46-8526-43aa-db80-3b26e0a3452d"
      },
      "source": [
        "# Cleaning the column 'Origin'\n",
        "automobile_df['Origin'].head(10)"
      ],
      "execution_count": 42,
      "outputs": [
        {
          "output_type": "execute_result",
          "data": {
            "text/plain": [
              "0     US; Detroit, Michigan\n",
              "3                        US\n",
              "4                       US]\n",
              "6     US; Detroit, Michigan\n",
              "7                        US\n",
              "8                        US\n",
              "9                       US]\n",
              "10                       US\n",
              "11                       US\n",
              "12    US; Detroit, Michigan\n",
              "Name: Origin, dtype: object"
            ]
          },
          "metadata": {
            "tags": []
          },
          "execution_count": 42
        }
      ]
    },
    {
      "cell_type": "code",
      "metadata": {
        "id": "oJLu1yGz5c9s",
        "colab_type": "code",
        "colab": {
          "base_uri": "https://localhost:8080/",
          "height": 85
        },
        "outputId": "9f52f2b9-c541-4781-f6a8-b1940771647e"
      },
      "source": [
        "# To get all the unique values\n",
        "automobile_df['Origin'].unique()\n",
        "\n",
        "# Now we saw that the origin can be either 'US', 'Europe', and 'Japan'\n",
        "# We will remove the cities and pick only countries"
      ],
      "execution_count": 43,
      "outputs": [
        {
          "output_type": "execute_result",
          "data": {
            "text/plain": [
              "array(['US; Detroit, Michigan', 'US', 'US]', 'Japan; Aichi',\n",
              "       'Europe-Germany', 'Europe', 'Japan; Tokyo', 'Japan; Aichi]',\n",
              "       'US; Detroit, Michigan]', 'Japan; Tokyo]', 'Japan',\n",
              "       'Europe Germany'], dtype=object)"
            ]
          },
          "metadata": {
            "tags": []
          },
          "execution_count": 43
        }
      ]
    },
    {
      "cell_type": "code",
      "metadata": {
        "id": "YY6Iuva6528M",
        "colab_type": "code",
        "colab": {
          "base_uri": "https://localhost:8080/",
          "height": 68
        },
        "outputId": "dbcabbff-459b-4c7a-baa0-524fcf4de313"
      },
      "source": [
        "# Now we will replace the string which contains 'US' with 'US' or else we will leave the string as is\n",
        "automobile_df['Origin'] = np.where(automobile_df['Origin'].str.contains('US'), 'US', automobile_df['Origin'])\n",
        "automobile_df['Origin'].unique()"
      ],
      "execution_count": 44,
      "outputs": [
        {
          "output_type": "execute_result",
          "data": {
            "text/plain": [
              "array(['US', 'Japan; Aichi', 'Europe-Germany', 'Europe', 'Japan; Tokyo',\n",
              "       'Japan; Aichi]', 'Japan; Tokyo]', 'Japan', 'Europe Germany'],\n",
              "      dtype=object)"
            ]
          },
          "metadata": {
            "tags": []
          },
          "execution_count": 44
        }
      ]
    },
    {
      "cell_type": "code",
      "metadata": {
        "id": "G8bIzSke60-S",
        "colab_type": "code",
        "colab": {
          "base_uri": "https://localhost:8080/",
          "height": 51
        },
        "outputId": "496030de-55e5-4eea-c26c-04e42ef83e08"
      },
      "source": [
        "# Repeating the above step for Japan\n",
        "automobile_df['Origin'] = np.where(automobile_df['Origin'].str.contains('Japan'), 'Japan', automobile_df['Origin'])\n",
        "automobile_df['Origin'].unique()"
      ],
      "execution_count": 45,
      "outputs": [
        {
          "output_type": "execute_result",
          "data": {
            "text/plain": [
              "array(['US', 'Japan', 'Europe-Germany', 'Europe', 'Europe Germany'],\n",
              "      dtype=object)"
            ]
          },
          "metadata": {
            "tags": []
          },
          "execution_count": 45
        }
      ]
    },
    {
      "cell_type": "code",
      "metadata": {
        "id": "1uHVElq-67oY",
        "colab_type": "code",
        "colab": {
          "base_uri": "https://localhost:8080/",
          "height": 34
        },
        "outputId": "c45e7a58-443b-48eb-dfd1-d897375c72ad"
      },
      "source": [
        "# Repeating the above step for Europe\n",
        "automobile_df['Origin'] = np.where(automobile_df['Origin'].str.contains('Europe'), 'Europe', automobile_df['Origin'])\n",
        "automobile_df['Origin'].unique()"
      ],
      "execution_count": 46,
      "outputs": [
        {
          "output_type": "execute_result",
          "data": {
            "text/plain": [
              "array(['US', 'Japan', 'Europe'], dtype=object)"
            ]
          },
          "metadata": {
            "tags": []
          },
          "execution_count": 46
        }
      ]
    },
    {
      "cell_type": "code",
      "metadata": {
        "id": "i1xnLw-K7IOo",
        "colab_type": "code",
        "colab": {
          "base_uri": "https://localhost:8080/",
          "height": 34
        },
        "outputId": "c3ffdfef-2043-4aeb-9256-06b891db5d3a"
      },
      "source": [
        "automobile_df.shape"
      ],
      "execution_count": 47,
      "outputs": [
        {
          "output_type": "execute_result",
          "data": {
            "text/plain": [
              "(387, 8)"
            ]
          },
          "metadata": {
            "tags": []
          },
          "execution_count": 47
        }
      ]
    },
    {
      "cell_type": "code",
      "metadata": {
        "id": "o6yPPpRx7LHW",
        "colab_type": "code",
        "colab": {
          "base_uri": "https://localhost:8080/",
          "height": 170
        },
        "outputId": "eda5dbd3-687a-46fc-b820-f433c19ec50d"
      },
      "source": [
        "automobile_df.dtypes"
      ],
      "execution_count": 48,
      "outputs": [
        {
          "output_type": "execute_result",
          "data": {
            "text/plain": [
              "MPG             float64\n",
              "Cylinders         int64\n",
              "Displacement    float64\n",
              "Horsepower        int64\n",
              "Weight            int64\n",
              "Acceleration    float64\n",
              "Origin           object\n",
              "Age               int64\n",
              "dtype: object"
            ]
          },
          "metadata": {
            "tags": []
          },
          "execution_count": 48
        }
      ]
    },
    {
      "cell_type": "code",
      "metadata": {
        "id": "DSzvWAhY7M8c",
        "colab_type": "code",
        "colab": {
          "base_uri": "https://localhost:8080/",
          "height": 297
        },
        "outputId": "50a219f1-a84e-48fb-aa82-e1a049e5dd4f"
      },
      "source": [
        "automobile_df.describe()"
      ],
      "execution_count": 49,
      "outputs": [
        {
          "output_type": "execute_result",
          "data": {
            "text/html": [
              "<div>\n",
              "<style scoped>\n",
              "    .dataframe tbody tr th:only-of-type {\n",
              "        vertical-align: middle;\n",
              "    }\n",
              "\n",
              "    .dataframe tbody tr th {\n",
              "        vertical-align: top;\n",
              "    }\n",
              "\n",
              "    .dataframe thead th {\n",
              "        text-align: right;\n",
              "    }\n",
              "</style>\n",
              "<table border=\"1\" class=\"dataframe\">\n",
              "  <thead>\n",
              "    <tr style=\"text-align: right;\">\n",
              "      <th></th>\n",
              "      <th>MPG</th>\n",
              "      <th>Cylinders</th>\n",
              "      <th>Displacement</th>\n",
              "      <th>Horsepower</th>\n",
              "      <th>Weight</th>\n",
              "      <th>Acceleration</th>\n",
              "      <th>Age</th>\n",
              "    </tr>\n",
              "  </thead>\n",
              "  <tbody>\n",
              "    <tr>\n",
              "      <th>count</th>\n",
              "      <td>387.000000</td>\n",
              "      <td>387.000000</td>\n",
              "      <td>387.000000</td>\n",
              "      <td>387.000000</td>\n",
              "      <td>387.000000</td>\n",
              "      <td>387.000000</td>\n",
              "      <td>387.000000</td>\n",
              "    </tr>\n",
              "    <tr>\n",
              "      <th>mean</th>\n",
              "      <td>23.672514</td>\n",
              "      <td>5.410853</td>\n",
              "      <td>192.184755</td>\n",
              "      <td>103.645995</td>\n",
              "      <td>2965.387597</td>\n",
              "      <td>15.573643</td>\n",
              "      <td>43.917313</td>\n",
              "    </tr>\n",
              "    <tr>\n",
              "      <th>std</th>\n",
              "      <td>7.736579</td>\n",
              "      <td>1.667795</td>\n",
              "      <td>103.703706</td>\n",
              "      <td>38.128651</td>\n",
              "      <td>846.332848</td>\n",
              "      <td>2.746260</td>\n",
              "      <td>3.668715</td>\n",
              "    </tr>\n",
              "    <tr>\n",
              "      <th>min</th>\n",
              "      <td>9.000000</td>\n",
              "      <td>3.000000</td>\n",
              "      <td>68.000000</td>\n",
              "      <td>46.000000</td>\n",
              "      <td>1613.000000</td>\n",
              "      <td>8.000000</td>\n",
              "      <td>38.000000</td>\n",
              "    </tr>\n",
              "    <tr>\n",
              "      <th>25%</th>\n",
              "      <td>17.600000</td>\n",
              "      <td>4.000000</td>\n",
              "      <td>102.500000</td>\n",
              "      <td>75.000000</td>\n",
              "      <td>2221.500000</td>\n",
              "      <td>13.900000</td>\n",
              "      <td>41.000000</td>\n",
              "    </tr>\n",
              "    <tr>\n",
              "      <th>50%</th>\n",
              "      <td>23.200000</td>\n",
              "      <td>4.000000</td>\n",
              "      <td>146.000000</td>\n",
              "      <td>92.000000</td>\n",
              "      <td>2790.000000</td>\n",
              "      <td>15.500000</td>\n",
              "      <td>44.000000</td>\n",
              "    </tr>\n",
              "    <tr>\n",
              "      <th>75%</th>\n",
              "      <td>29.000000</td>\n",
              "      <td>6.000000</td>\n",
              "      <td>260.000000</td>\n",
              "      <td>121.000000</td>\n",
              "      <td>3589.500000</td>\n",
              "      <td>17.050000</td>\n",
              "      <td>47.000000</td>\n",
              "    </tr>\n",
              "    <tr>\n",
              "      <th>max</th>\n",
              "      <td>46.600000</td>\n",
              "      <td>8.000000</td>\n",
              "      <td>455.000000</td>\n",
              "      <td>230.000000</td>\n",
              "      <td>5140.000000</td>\n",
              "      <td>24.800000</td>\n",
              "      <td>50.000000</td>\n",
              "    </tr>\n",
              "  </tbody>\n",
              "</table>\n",
              "</div>"
            ],
            "text/plain": [
              "              MPG   Cylinders  ...  Acceleration         Age\n",
              "count  387.000000  387.000000  ...    387.000000  387.000000\n",
              "mean    23.672514    5.410853  ...     15.573643   43.917313\n",
              "std      7.736579    1.667795  ...      2.746260    3.668715\n",
              "min      9.000000    3.000000  ...      8.000000   38.000000\n",
              "25%     17.600000    4.000000  ...     13.900000   41.000000\n",
              "50%     23.200000    4.000000  ...     15.500000   44.000000\n",
              "75%     29.000000    6.000000  ...     17.050000   47.000000\n",
              "max     46.600000    8.000000  ...     24.800000   50.000000\n",
              "\n",
              "[8 rows x 7 columns]"
            ]
          },
          "metadata": {
            "tags": []
          },
          "execution_count": 49
        }
      ]
    },
    {
      "cell_type": "markdown",
      "metadata": {
        "id": "-ZZJR-smyU6Y",
        "colab_type": "text"
      },
      "source": [
        "Visualizing Relationships"
      ]
    },
    {
      "cell_type": "code",
      "metadata": {
        "id": "UqDjwoF3yYBF",
        "colab_type": "code",
        "colab": {}
      },
      "source": [
        "import matplotlib.pyplot as plt"
      ],
      "execution_count": 0,
      "outputs": []
    },
    {
      "cell_type": "code",
      "metadata": {
        "id": "rtXv7dqbye5q",
        "colab_type": "code",
        "colab": {
          "base_uri": "https://localhost:8080/",
          "height": 514
        },
        "outputId": "483ed2c9-8583-4294-b4e3-b10c2e90eb2a"
      },
      "source": [
        "plt.figure(figsize = (12,8))\n",
        "plt.bar(automobile_df['Age'], automobile_df['MPG'])\n",
        "\n",
        "plt.xlabel('Age')\n",
        "plt.ylabel('Miles per gallon')\n",
        "\n",
        "# We can see that for older cars, mile per gallon is low."
      ],
      "execution_count": 52,
      "outputs": [
        {
          "output_type": "execute_result",
          "data": {
            "text/plain": [
              "Text(0, 0.5, 'Miles per gallon')"
            ]
          },
          "metadata": {
            "tags": []
          },
          "execution_count": 52
        },
        {
          "output_type": "display_data",
          "data": {
            "image/png": "[encoded data removed]",
            "text/plain": [
              "<Figure size 864x576 with 1 Axes>"
            ]
          },
          "metadata": {
            "tags": [],
            "needs_background": "light"
          }
        }
      ]
    },
    {
      "cell_type": "code",
      "metadata": {
        "id": "GlDV3t6wy-B8",
        "colab_type": "code",
        "colab": {
          "base_uri": "https://localhost:8080/",
          "height": 514
        },
        "outputId": "495c16e6-934d-43f5-8948-f469edb402ef"
      },
      "source": [
        "plt.figure(figsize = (12,8))\n",
        "plt.scatter(automobile_df['Acceleration'], automobile_df['MPG'])\n",
        "\n",
        "plt.xlabel('Acceleration')\n",
        "plt.ylabel('Miles per gallon')\n",
        "\n",
        "# We can see that there exists a linear relationship.\n",
        "# Car with higher acceleration seems to have a better mileage."
      ],
      "execution_count": 53,
      "outputs": [
        {
          "output_type": "execute_result",
          "data": {
            "text/plain": [
              "Text(0, 0.5, 'Miles per gallon')"
            ]
          },
          "metadata": {
            "tags": []
          },
          "execution_count": 53
        },
        {
          "output_type": "display_data",
          "data": {
            "image/png": "[encoded data removed]",
            "text/plain": [
              "<Figure size 864x576 with 1 Axes>"
            ]
          },
          "metadata": {
            "tags": [],
            "needs_background": "light"
          }
        }
      ]
    },
    {
      "cell_type": "code",
      "metadata": {
        "id": "mc53zYLvzZH_",
        "colab_type": "code",
        "colab": {
          "base_uri": "https://localhost:8080/",
          "height": 514
        },
        "outputId": "54ce8c2c-2663-436f-ce81-ddbafaecc7cb"
      },
      "source": [
        "# To check is weight of the car effects the mileage?\n",
        "plt.figure(figsize = (12,8))\n",
        "plt.scatter(automobile_df['Weight'], automobile_df['MPG'])\n",
        "\n",
        "plt.xlabel('Weight')\n",
        "plt.ylabel('Miles per gallon')\n",
        "\n",
        "# We can see a negative relationship.\n",
        "# Cars with higher weight has less mileage. "
      ],
      "execution_count": 54,
      "outputs": [
        {
          "output_type": "execute_result",
          "data": {
            "text/plain": [
              "Text(0, 0.5, 'Miles per gallon')"
            ]
          },
          "metadata": {
            "tags": []
          },
          "execution_count": 54
        },
        {
          "output_type": "display_data",
          "data": {
            "image/png": "[encoded data removed]",
            "text/plain": [
              "<Figure size 864x576 with 1 Axes>"
            ]
          },
          "metadata": {
            "tags": [],
            "needs_background": "light"
          }
        }
      ]
    },
    {
      "cell_type": "code",
      "metadata": {
        "id": "4TmtROQQz6l9",
        "colab_type": "code",
        "colab": {
          "base_uri": "https://localhost:8080/",
          "height": 486
        },
        "outputId": "d02c0459-62e5-4cb6-fc5a-877dc33f5279"
      },
      "source": [
        "# Scatter plot for 3 variables (3 dimensions)\n",
        "# To visualize bivariate relationships\n",
        "\n",
        "automobile_df.plot.scatter(x = 'Weight', y = 'Acceleration', c = 'Horsepower', colormap = 'viridis', figsize = (12,8))\n",
        "\n",
        "# Car with higher weight have low acceleration.\n",
        "# Car with higher weight and lower acceleration have higher horsepower."
      ],
      "execution_count": 66,
      "outputs": [
        {
          "output_type": "execute_result",
          "data": {
            "text/plain": [
              "<matplotlib.axes._subplots.AxesSubplot at 0x7f8f0bb2bbe0>"
            ]
          },
          "metadata": {
            "tags": []
          },
          "execution_count": 66
        },
        {
          "output_type": "display_data",
          "data": {
            "image/png": "[encoded data removed]",
            "text/plain": [
              "<Figure size 864x576 with 2 Axes>"
            ]
          },
          "metadata": {
            "tags": [],
            "needs_background": "light"
          }
        }
      ]
    },
    {
      "cell_type": "code",
      "metadata": {
        "id": "7ToTNGQa3s6u",
        "colab_type": "code",
        "colab": {
          "base_uri": "https://localhost:8080/",
          "height": 514
        },
        "outputId": "c155996e-2d97-4047-c207-4607931847d8"
      },
      "source": [
        "plt.figure(figsize = (12,8))\n",
        "plt.bar(automobile_df['Cylinders'], automobile_df['MPG'])\n",
        "\n",
        "plt.xlabel('Cylinders')\n",
        "plt.ylabel('Miles per gallon')\n",
        "\n",
        "# Hard to see the exact pattern"
      ],
      "execution_count": 67,
      "outputs": [
        {
          "output_type": "execute_result",
          "data": {
            "text/plain": [
              "Text(0, 0.5, 'Miles per gallon')"
            ]
          },
          "metadata": {
            "tags": []
          },
          "execution_count": 67
        },
        {
          "output_type": "display_data",
          "data": {
            "image/png": "[encoded data removed]",
            "text/plain": [
              "<Figure size 864x576 with 1 Axes>"
            ]
          },
          "metadata": {
            "tags": [],
            "needs_background": "light"
          }
        }
      ]
    },
    {
      "cell_type": "code",
      "metadata": {
        "id": "7CddwN4W38Pg",
        "colab_type": "code",
        "colab": {
          "base_uri": "https://localhost:8080/",
          "height": 204
        },
        "outputId": "ad5ea503-5de3-47ef-895a-645fa12fb90e"
      },
      "source": [
        "# Dropping 2 columns as they have discrete values and not continours numeric values.\n",
        "automobile_df.drop(['Cylinders', 'Origin'], inplace=True, axis = 1)\n",
        "automobile_df.sample(5)"
      ],
      "execution_count": 68,
      "outputs": [
        {
          "output_type": "execute_result",
          "data": {
            "text/html": [
              "<div>\n",
              "<style scoped>\n",
              "    .dataframe tbody tr th:only-of-type {\n",
              "        vertical-align: middle;\n",
              "    }\n",
              "\n",
              "    .dataframe tbody tr th {\n",
              "        vertical-align: top;\n",
              "    }\n",
              "\n",
              "    .dataframe thead th {\n",
              "        text-align: right;\n",
              "    }\n",
              "</style>\n",
              "<table border=\"1\" class=\"dataframe\">\n",
              "  <thead>\n",
              "    <tr style=\"text-align: right;\">\n",
              "      <th></th>\n",
              "      <th>MPG</th>\n",
              "      <th>Displacement</th>\n",
              "      <th>Horsepower</th>\n",
              "      <th>Weight</th>\n",
              "      <th>Acceleration</th>\n",
              "      <th>Age</th>\n",
              "    </tr>\n",
              "  </thead>\n",
              "  <tbody>\n",
              "    <tr>\n",
              "      <th>287</th>\n",
              "      <td>16.9</td>\n",
              "      <td>350.0</td>\n",
              "      <td>155</td>\n",
              "      <td>4360</td>\n",
              "      <td>14.9</td>\n",
              "      <td>41</td>\n",
              "    </tr>\n",
              "    <tr>\n",
              "      <th>255</th>\n",
              "      <td>19.4</td>\n",
              "      <td>232.0</td>\n",
              "      <td>90</td>\n",
              "      <td>3210</td>\n",
              "      <td>17.2</td>\n",
              "      <td>42</td>\n",
              "    </tr>\n",
              "    <tr>\n",
              "      <th>117</th>\n",
              "      <td>24.0</td>\n",
              "      <td>116.0</td>\n",
              "      <td>75</td>\n",
              "      <td>2158</td>\n",
              "      <td>15.5</td>\n",
              "      <td>47</td>\n",
              "    </tr>\n",
              "    <tr>\n",
              "      <th>317</th>\n",
              "      <td>31.3</td>\n",
              "      <td>120.0</td>\n",
              "      <td>75</td>\n",
              "      <td>2542</td>\n",
              "      <td>17.5</td>\n",
              "      <td>40</td>\n",
              "    </tr>\n",
              "    <tr>\n",
              "      <th>23</th>\n",
              "      <td>26.0</td>\n",
              "      <td>121.0</td>\n",
              "      <td>113</td>\n",
              "      <td>2234</td>\n",
              "      <td>12.5</td>\n",
              "      <td>50</td>\n",
              "    </tr>\n",
              "  </tbody>\n",
              "</table>\n",
              "</div>"
            ],
            "text/plain": [
              "      MPG  Displacement  Horsepower  Weight  Acceleration  Age\n",
              "287  16.9         350.0         155    4360          14.9   41\n",
              "255  19.4         232.0          90    3210          17.2   42\n",
              "117  24.0         116.0          75    2158          15.5   47\n",
              "317  31.3         120.0          75    2542          17.5   40\n",
              "23   26.0         121.0         113    2234          12.5   50"
            ]
          },
          "metadata": {
            "tags": []
          },
          "execution_count": 68
        }
      ]
    },
    {
      "cell_type": "code",
      "metadata": {
        "id": "oi_9xM0I4ReT",
        "colab_type": "code",
        "colab": {
          "base_uri": "https://localhost:8080/",
          "height": 235
        },
        "outputId": "6907f6ad-c98b-4dbc-9c96-6f7d0590625c"
      },
      "source": [
        "# Viewing inter relationships in our data using correlation matrix.\n",
        "car_corr = automobile_df.corr()\n",
        "car_corr"
      ],
      "execution_count": 69,
      "outputs": [
        {
          "output_type": "execute_result",
          "data": {
            "text/html": [
              "<div>\n",
              "<style scoped>\n",
              "    .dataframe tbody tr th:only-of-type {\n",
              "        vertical-align: middle;\n",
              "    }\n",
              "\n",
              "    .dataframe tbody tr th {\n",
              "        vertical-align: top;\n",
              "    }\n",
              "\n",
              "    .dataframe thead th {\n",
              "        text-align: right;\n",
              "    }\n",
              "</style>\n",
              "<table border=\"1\" class=\"dataframe\">\n",
              "  <thead>\n",
              "    <tr style=\"text-align: right;\">\n",
              "      <th></th>\n",
              "      <th>MPG</th>\n",
              "      <th>Displacement</th>\n",
              "      <th>Horsepower</th>\n",
              "      <th>Weight</th>\n",
              "      <th>Acceleration</th>\n",
              "      <th>Age</th>\n",
              "    </tr>\n",
              "  </thead>\n",
              "  <tbody>\n",
              "    <tr>\n",
              "      <th>MPG</th>\n",
              "      <td>1.000000</td>\n",
              "      <td>-0.788492</td>\n",
              "      <td>-0.761499</td>\n",
              "      <td>-0.820138</td>\n",
              "      <td>0.392186</td>\n",
              "      <td>-0.566242</td>\n",
              "    </tr>\n",
              "    <tr>\n",
              "      <th>Displacement</th>\n",
              "      <td>-0.788492</td>\n",
              "      <td>1.000000</td>\n",
              "      <td>0.894199</td>\n",
              "      <td>0.932822</td>\n",
              "      <td>-0.526901</td>\n",
              "      <td>0.357047</td>\n",
              "    </tr>\n",
              "    <tr>\n",
              "      <th>Horsepower</th>\n",
              "      <td>-0.761499</td>\n",
              "      <td>0.894199</td>\n",
              "      <td>1.000000</td>\n",
              "      <td>0.863388</td>\n",
              "      <td>-0.670920</td>\n",
              "      <td>0.404458</td>\n",
              "    </tr>\n",
              "    <tr>\n",
              "      <th>Weight</th>\n",
              "      <td>-0.820138</td>\n",
              "      <td>0.932822</td>\n",
              "      <td>0.863388</td>\n",
              "      <td>1.000000</td>\n",
              "      <td>-0.397181</td>\n",
              "      <td>0.299049</td>\n",
              "    </tr>\n",
              "    <tr>\n",
              "      <th>Acceleration</th>\n",
              "      <td>0.392186</td>\n",
              "      <td>-0.526901</td>\n",
              "      <td>-0.670920</td>\n",
              "      <td>-0.397181</td>\n",
              "      <td>1.000000</td>\n",
              "      <td>-0.292705</td>\n",
              "    </tr>\n",
              "    <tr>\n",
              "      <th>Age</th>\n",
              "      <td>-0.566242</td>\n",
              "      <td>0.357047</td>\n",
              "      <td>0.404458</td>\n",
              "      <td>0.299049</td>\n",
              "      <td>-0.292705</td>\n",
              "      <td>1.000000</td>\n",
              "    </tr>\n",
              "  </tbody>\n",
              "</table>\n",
              "</div>"
            ],
            "text/plain": [
              "                   MPG  Displacement  ...  Acceleration       Age\n",
              "MPG           1.000000     -0.788492  ...      0.392186 -0.566242\n",
              "Displacement -0.788492      1.000000  ...     -0.526901  0.357047\n",
              "Horsepower   -0.761499      0.894199  ...     -0.670920  0.404458\n",
              "Weight       -0.820138      0.932822  ...     -0.397181  0.299049\n",
              "Acceleration  0.392186     -0.526901  ...      1.000000 -0.292705\n",
              "Age          -0.566242      0.357047  ...     -0.292705  1.000000\n",
              "\n",
              "[6 rows x 6 columns]"
            ]
          },
          "metadata": {
            "tags": []
          },
          "execution_count": 69
        }
      ]
    },
    {
      "cell_type": "code",
      "metadata": {
        "id": "o2oWtsnO4ppg",
        "colab_type": "code",
        "colab": {
          "base_uri": "https://localhost:8080/",
          "height": 71
        },
        "outputId": "f9eae15b-21c2-46fe-fe4e-440ccaf5a023"
      },
      "source": [
        "import seaborn as sns"
      ],
      "execution_count": 70,
      "outputs": [
        {
          "output_type": "stream",
          "text": [
            "/usr/local/lib/python3.6/dist-packages/statsmodels/tools/_testing.py:19: FutureWarning: pandas.util.testing is deprecated. Use the functions in the public API at pandas.testing instead.\n",
            "  import pandas.util.testing as tm\n"
          ],
          "name": "stderr"
        }
      ]
    },
    {
      "cell_type": "code",
      "metadata": {
        "id": "WbZEeLfA4tEs",
        "colab_type": "code",
        "colab": {
          "base_uri": "https://localhost:8080/",
          "height": 504
        },
        "outputId": "03fc267a-cf00-4c27-be14-dcb47c2fb76e"
      },
      "source": [
        "fig, ax = plt.subplots(figsize = (12,8))\n",
        "sns.heatmap(car_corr, annot = True)"
      ],
      "execution_count": 71,
      "outputs": [
        {
          "output_type": "execute_result",
          "data": {
            "text/plain": [
              "<matplotlib.axes._subplots.AxesSubplot at 0x7f8f0a9ed860>"
            ]
          },
          "metadata": {
            "tags": []
          },
          "execution_count": 71
        },
        {
          "output_type": "display_data",
          "data": {
            "image/png": "[encoded data removed]",
            "text/plain": [
              "<Figure size 864x576 with 2 Axes>"
            ]
          },
          "metadata": {
            "tags": [],
            "needs_background": "light"
          }
        }
      ]
    }
  ]
}